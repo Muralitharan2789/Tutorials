{
  "nbformat": 4,
  "nbformat_minor": 0,
  "metadata": {
    "kernelspec": {
      "display_name": "Python 3",
      "language": "python",
      "name": "python3"
    },
    "language_info": {
      "codemirror_mode": {
        "name": "ipython",
        "version": 3
      },
      "file_extension": ".py",
      "mimetype": "text/x-python",
      "name": "python",
      "nbconvert_exporter": "python",
      "pygments_lexer": "ipython3",
      "version": "3.5.2"
    },
    "colab": {
      "name": "Normalization_Question.ipynb",
      "provenance": [],
      "collapsed_sections": [],
      "toc_visible": true
    }
  },
  "cells": [
    {
      "cell_type": "markdown",
      "metadata": {
        "id": "8bqd-_lfCpT1",
        "colab_type": "text"
      },
      "source": [
        "## **Normalization using Tensorflow Keras**\n",
        "In this scenario of hackerrank, you will be exploring about the **Normalization** and how to use it.  \n",
        "\n",
        "We will look at three scenarios here\n",
        "1. Without Normalization, \n",
        "2. Applying Normalization before Activation Function\n",
        "3. Applying Normalization after Activation Function\n",
        "\n",
        "**Note** - Finally restart and run all the cells after the completion of the challenge\n"
      ]
    },
    {
      "cell_type": "markdown",
      "metadata": {
        "id": "Wg6qyLKOCpT3",
        "colab_type": "text"
      },
      "source": [
        "### Run the below cell to import the neccessary packages"
      ]
    },
    {
      "cell_type": "code",
      "metadata": {
        "scrolled": true,
        "id": "1W32PX5KCpT5",
        "colab_type": "code",
        "colab": {
          "base_uri": "https://localhost:8080/",
          "height": 51
        },
        "outputId": "c02a903b-164d-4d02-c97f-39cef2a43aa9"
      },
      "source": [
        "import numpy as np\n",
        "from keras.models import Sequential\n",
        "from keras.layers import Dense\n",
        "from keras.wrappers.scikit_learn import KerasClassifier\n",
        "from sklearn.datasets import load_breast_cancer\n",
        "from sklearn.model_selection import train_test_split\n",
        "from matplotlib import pyplot\n",
        "import seaborn as sns\n",
        "import pandas as pd\n",
        "from keras.layers import BatchNormalization\n",
        "from keras.models import model_from_json\n",
        "import tensorflow as tf\n",
        "from sklearn.datasets import load_breast_cancer\n",
        "from sklearn import metrics\n",
        "import random as rn\n",
        "from keras import backend as K\n",
        "import matplotlib.pyplot as plt\n",
        "import os\n",
        "from keras.layers import Activation"
      ],
      "execution_count": 1,
      "outputs": [
        {
          "output_type": "stream",
          "text": [
            "/usr/local/lib/python3.6/dist-packages/statsmodels/tools/_testing.py:19: FutureWarning: pandas.util.testing is deprecated. Use the functions in the public API at pandas.testing instead.\n",
            "  import pandas.util.testing as tm\n"
          ],
          "name": "stderr"
        }
      ]
    },
    {
      "cell_type": "markdown",
      "metadata": {
        "id": "P7X1abdECpUF",
        "colab_type": "text"
      },
      "source": [
        "### Run the below cells so as to get the reproducibility of the results"
      ]
    },
    {
      "cell_type": "code",
      "metadata": {
        "id": "hu5t2QezCpUG",
        "colab_type": "code",
        "colab": {}
      },
      "source": [
        "os.environ[\"CUDA_DEVICE_ORDER\"] = \"PCI_BUS_ID\"\n",
        "os.environ[\"CUDA_VISIBLE_DEVICES\"] = \"\""
      ],
      "execution_count": 2,
      "outputs": []
    },
    {
      "cell_type": "code",
      "metadata": {
        "id": "Lan_nd8SCucz",
        "colab_type": "code",
        "colab": {}
      },
      "source": [
        "sd = 22 # Here sd means seed.\n",
        "np.random.seed(sd)\n",
        "rn.seed(sd)\n",
        "os.environ['PYTHONHASHSEED']=str(sd)"
      ],
      "execution_count": 3,
      "outputs": []
    },
    {
      "cell_type": "markdown",
      "metadata": {
        "id": "xXUBVreeCpUR",
        "colab_type": "text"
      },
      "source": [
        "### Load the dataset \n",
        " - Load the breast cancer dataset using load_breast_cancer function"
      ]
    },
    {
      "cell_type": "code",
      "metadata": {
        "id": "9xK_33P3CpUS",
        "colab_type": "code",
        "colab": {}
      },
      "source": [
        "X, y = load_breast_cancer().data,load_breast_cancer().target"
      ],
      "execution_count": 4,
      "outputs": []
    },
    {
      "cell_type": "markdown",
      "metadata": {
        "id": "qrtOpZ_wCpUW",
        "colab_type": "text"
      },
      "source": [
        "### Split the Dataset\n",
        "- Split the data with the train_test_split function of sklearn with parameters test_size=0.2 and random_state=500"
      ]
    },
    {
      "cell_type": "code",
      "metadata": {
        "id": "6TBPuuZvCpUX",
        "colab_type": "code",
        "colab": {}
      },
      "source": [
        "X_train, X_test, y_train, y_test =train_test_split(X,y,test_size=0.2,random_state=500)\n"
      ],
      "execution_count": 5,
      "outputs": []
    },
    {
      "cell_type": "markdown",
      "metadata": {
        "id": "xXhesd5OCpUb",
        "colab_type": "text"
      },
      "source": [
        "---------------------------------------------------------------------------\n",
        "## **1.Without Normalization**\n",
        "-------------------------------------------------------------------\n",
        "\n",
        "### Create Model\n",
        "\n",
        "Construct a fully-connected network structure defined using dense class\n",
        "- Create a sequential model\n",
        "- The model expects rows of data with 30 variables (the input_dim=30 argument)\n",
        "- The first hidden layer has 90 nodes and uses the relu activation function.\n",
        "- The second hidden layer has 60 nodes and uses the relu activation function.\n",
        "- The third hidden layer has 30 nodes and uses the relu activation function.\n",
        "- The output layer has 1 node and uses the sigmoid activation function.\n",
        "- While comipling the model pass the following parameters -\n",
        "                    \n",
        "           -optimizer as Adagrad\n",
        "           -loss as binary cross entropy \n",
        "           -metrics as accuracy"
      ]
    },
    {
      "cell_type": "code",
      "metadata": {
        "scrolled": false,
        "id": "Q3hmVhp_CpUb",
        "colab_type": "code",
        "colab": {}
      },
      "source": [
        "model = Sequential()\n",
        "model.add(Dense(90, input_dim=30, activation='relu'))\n",
        "model.add(Dense(60, activation='relu'))\n",
        "model.add(Dense(30, activation='relu'))\n",
        "model.add(Dense(1, activation='sigmoid'))\n",
        "model.compile(loss='binary_crossentropy', optimizer='Adagrad', metrics=['accuracy'])"
      ],
      "execution_count": 6,
      "outputs": []
    },
    {
      "cell_type": "markdown",
      "metadata": {
        "id": "A2Xqzy-aCpUj",
        "colab_type": "text"
      },
      "source": [
        "### Fit the model\n",
        "- fit the model with X_train, y_train, epochs=50, batch_size=50,shuffle=False,validation_split=0.2,verbose=1 and save it in history"
      ]
    },
    {
      "cell_type": "code",
      "metadata": {
        "scrolled": true,
        "id": "RqUe6qQGCpUk",
        "colab_type": "code",
        "colab": {
          "base_uri": "https://localhost:8080/",
          "height": 1000
        },
        "outputId": "d5142a2d-8184-4bbd-88de-99677de1eb83"
      },
      "source": [
        "history = model.fit(X_train,y_train,epochs=50,batch_size=50,shuffle=False,validation_split=0.2,verbose=1)"
      ],
      "execution_count": 7,
      "outputs": [
        {
          "output_type": "stream",
          "text": [
            "Epoch 1/50\n",
            "8/8 [==============================] - 0s 19ms/step - loss: 3.7190 - accuracy: 0.6896 - val_loss: 0.5412 - val_accuracy: 0.8132\n",
            "Epoch 2/50\n",
            "8/8 [==============================] - 0s 3ms/step - loss: 0.6810 - accuracy: 0.7637 - val_loss: 1.0321 - val_accuracy: 0.7692\n",
            "Epoch 3/50\n",
            "8/8 [==============================] - 0s 3ms/step - loss: 0.3704 - accuracy: 0.8516 - val_loss: 0.2301 - val_accuracy: 0.9121\n",
            "Epoch 4/50\n",
            "8/8 [==============================] - 0s 3ms/step - loss: 0.2635 - accuracy: 0.8956 - val_loss: 0.2138 - val_accuracy: 0.9121\n",
            "Epoch 5/50\n",
            "8/8 [==============================] - 0s 3ms/step - loss: 0.2505 - accuracy: 0.8984 - val_loss: 0.2047 - val_accuracy: 0.9231\n",
            "Epoch 6/50\n",
            "8/8 [==============================] - 0s 3ms/step - loss: 0.2404 - accuracy: 0.9066 - val_loss: 0.2004 - val_accuracy: 0.9231\n",
            "Epoch 7/50\n",
            "8/8 [==============================] - 0s 3ms/step - loss: 0.2331 - accuracy: 0.9121 - val_loss: 0.1977 - val_accuracy: 0.9231\n",
            "Epoch 8/50\n",
            "8/8 [==============================] - 0s 3ms/step - loss: 0.2272 - accuracy: 0.9093 - val_loss: 0.1985 - val_accuracy: 0.9231\n",
            "Epoch 9/50\n",
            "8/8 [==============================] - 0s 3ms/step - loss: 0.2215 - accuracy: 0.9121 - val_loss: 0.1980 - val_accuracy: 0.9231\n",
            "Epoch 10/50\n",
            "8/8 [==============================] - 0s 3ms/step - loss: 0.2178 - accuracy: 0.9148 - val_loss: 0.1948 - val_accuracy: 0.9231\n",
            "Epoch 11/50\n",
            "8/8 [==============================] - 0s 3ms/step - loss: 0.2154 - accuracy: 0.9148 - val_loss: 0.1962 - val_accuracy: 0.9231\n",
            "Epoch 12/50\n",
            "8/8 [==============================] - 0s 3ms/step - loss: 0.2123 - accuracy: 0.9176 - val_loss: 0.1931 - val_accuracy: 0.9341\n",
            "Epoch 13/50\n",
            "8/8 [==============================] - 0s 3ms/step - loss: 0.2109 - accuracy: 0.9121 - val_loss: 0.2080 - val_accuracy: 0.9121\n",
            "Epoch 14/50\n",
            "8/8 [==============================] - 0s 3ms/step - loss: 0.2077 - accuracy: 0.9176 - val_loss: 0.1968 - val_accuracy: 0.9231\n",
            "Epoch 15/50\n",
            "8/8 [==============================] - 0s 3ms/step - loss: 0.2067 - accuracy: 0.9148 - val_loss: 0.1945 - val_accuracy: 0.9341\n",
            "Epoch 16/50\n",
            "8/8 [==============================] - 0s 3ms/step - loss: 0.2057 - accuracy: 0.9176 - val_loss: 0.1946 - val_accuracy: 0.9231\n",
            "Epoch 17/50\n",
            "8/8 [==============================] - 0s 3ms/step - loss: 0.2039 - accuracy: 0.9148 - val_loss: 0.2043 - val_accuracy: 0.9121\n",
            "Epoch 18/50\n",
            "8/8 [==============================] - 0s 3ms/step - loss: 0.2028 - accuracy: 0.9203 - val_loss: 0.1959 - val_accuracy: 0.9341\n",
            "Epoch 19/50\n",
            "8/8 [==============================] - 0s 3ms/step - loss: 0.2013 - accuracy: 0.9203 - val_loss: 0.1922 - val_accuracy: 0.9231\n",
            "Epoch 20/50\n",
            "8/8 [==============================] - 0s 3ms/step - loss: 0.2005 - accuracy: 0.9203 - val_loss: 0.2028 - val_accuracy: 0.9121\n",
            "Epoch 21/50\n",
            "8/8 [==============================] - 0s 3ms/step - loss: 0.1989 - accuracy: 0.9203 - val_loss: 0.1971 - val_accuracy: 0.9341\n",
            "Epoch 22/50\n",
            "8/8 [==============================] - 0s 3ms/step - loss: 0.1976 - accuracy: 0.9203 - val_loss: 0.2072 - val_accuracy: 0.9121\n",
            "Epoch 23/50\n",
            "8/8 [==============================] - 0s 4ms/step - loss: 0.1972 - accuracy: 0.9176 - val_loss: 0.2091 - val_accuracy: 0.9121\n",
            "Epoch 24/50\n",
            "8/8 [==============================] - 0s 3ms/step - loss: 0.1955 - accuracy: 0.9231 - val_loss: 0.2096 - val_accuracy: 0.9121\n",
            "Epoch 25/50\n",
            "8/8 [==============================] - 0s 3ms/step - loss: 0.1946 - accuracy: 0.9231 - val_loss: 0.2073 - val_accuracy: 0.9121\n",
            "Epoch 26/50\n",
            "8/8 [==============================] - 0s 4ms/step - loss: 0.1936 - accuracy: 0.9231 - val_loss: 0.2032 - val_accuracy: 0.9231\n",
            "Epoch 27/50\n",
            "8/8 [==============================] - 0s 3ms/step - loss: 0.1931 - accuracy: 0.9231 - val_loss: 0.2056 - val_accuracy: 0.9121\n",
            "Epoch 28/50\n",
            "8/8 [==============================] - 0s 3ms/step - loss: 0.1916 - accuracy: 0.9258 - val_loss: 0.2066 - val_accuracy: 0.9121\n",
            "Epoch 29/50\n",
            "8/8 [==============================] - 0s 3ms/step - loss: 0.1909 - accuracy: 0.9258 - val_loss: 0.2059 - val_accuracy: 0.9121\n",
            "Epoch 30/50\n",
            "8/8 [==============================] - 0s 3ms/step - loss: 0.1902 - accuracy: 0.9258 - val_loss: 0.2011 - val_accuracy: 0.9231\n",
            "Epoch 31/50\n",
            "8/8 [==============================] - 0s 3ms/step - loss: 0.1899 - accuracy: 0.9258 - val_loss: 0.2038 - val_accuracy: 0.9231\n",
            "Epoch 32/50\n",
            "8/8 [==============================] - 0s 4ms/step - loss: 0.1886 - accuracy: 0.9286 - val_loss: 0.2042 - val_accuracy: 0.9231\n",
            "Epoch 33/50\n",
            "8/8 [==============================] - 0s 3ms/step - loss: 0.1880 - accuracy: 0.9286 - val_loss: 0.2041 - val_accuracy: 0.9231\n",
            "Epoch 34/50\n",
            "8/8 [==============================] - 0s 3ms/step - loss: 0.1874 - accuracy: 0.9286 - val_loss: 0.2033 - val_accuracy: 0.9231\n",
            "Epoch 35/50\n",
            "8/8 [==============================] - 0s 3ms/step - loss: 0.1868 - accuracy: 0.9286 - val_loss: 0.2034 - val_accuracy: 0.9231\n",
            "Epoch 36/50\n",
            "8/8 [==============================] - 0s 3ms/step - loss: 0.1863 - accuracy: 0.9286 - val_loss: 0.2034 - val_accuracy: 0.9231\n",
            "Epoch 37/50\n",
            "8/8 [==============================] - 0s 3ms/step - loss: 0.1859 - accuracy: 0.9286 - val_loss: 0.2023 - val_accuracy: 0.9231\n",
            "Epoch 38/50\n",
            "8/8 [==============================] - 0s 3ms/step - loss: 0.1852 - accuracy: 0.9286 - val_loss: 0.2024 - val_accuracy: 0.9231\n",
            "Epoch 39/50\n",
            "8/8 [==============================] - 0s 3ms/step - loss: 0.1848 - accuracy: 0.9286 - val_loss: 0.2022 - val_accuracy: 0.9231\n",
            "Epoch 40/50\n",
            "8/8 [==============================] - 0s 4ms/step - loss: 0.1845 - accuracy: 0.9286 - val_loss: 0.1976 - val_accuracy: 0.9231\n",
            "Epoch 41/50\n",
            "8/8 [==============================] - 0s 3ms/step - loss: 0.1843 - accuracy: 0.9286 - val_loss: 0.2003 - val_accuracy: 0.9231\n",
            "Epoch 42/50\n",
            "8/8 [==============================] - 0s 3ms/step - loss: 0.1835 - accuracy: 0.9286 - val_loss: 0.2005 - val_accuracy: 0.9231\n",
            "Epoch 43/50\n",
            "8/8 [==============================] - 0s 3ms/step - loss: 0.1831 - accuracy: 0.9286 - val_loss: 0.2003 - val_accuracy: 0.9231\n",
            "Epoch 44/50\n",
            "8/8 [==============================] - 0s 3ms/step - loss: 0.1829 - accuracy: 0.9286 - val_loss: 0.1957 - val_accuracy: 0.9231\n",
            "Epoch 45/50\n",
            "8/8 [==============================] - 0s 3ms/step - loss: 0.1827 - accuracy: 0.9286 - val_loss: 0.1982 - val_accuracy: 0.9231\n",
            "Epoch 46/50\n",
            "8/8 [==============================] - 0s 3ms/step - loss: 0.1820 - accuracy: 0.9286 - val_loss: 0.1990 - val_accuracy: 0.9231\n",
            "Epoch 47/50\n",
            "8/8 [==============================] - 0s 3ms/step - loss: 0.1817 - accuracy: 0.9286 - val_loss: 0.1948 - val_accuracy: 0.9231\n",
            "Epoch 48/50\n",
            "8/8 [==============================] - 0s 4ms/step - loss: 0.1816 - accuracy: 0.9286 - val_loss: 0.1971 - val_accuracy: 0.9231\n",
            "Epoch 49/50\n",
            "8/8 [==============================] - 0s 3ms/step - loss: 0.1809 - accuracy: 0.9286 - val_loss: 0.1977 - val_accuracy: 0.9231\n",
            "Epoch 50/50\n",
            "8/8 [==============================] - 0s 3ms/step - loss: 0.1806 - accuracy: 0.9286 - val_loss: 0.1979 - val_accuracy: 0.9231\n"
          ],
          "name": "stdout"
        }
      ]
    },
    {
      "cell_type": "markdown",
      "metadata": {
        "id": "Af0j4U4sCpUo",
        "colab_type": "text"
      },
      "source": [
        "### Evaluate the model\n",
        "- Evaluate the model with training data using X_train and y_train and give verbose as 0 and save it in train_acc\n",
        "\n",
        "- In the similar way evaluate the model with test data using X_test and y_test using verbose as 0 and save it in test_acc"
      ]
    },
    {
      "cell_type": "code",
      "metadata": {
        "scrolled": false,
        "id": "jHbE7SQ4CpUp",
        "colab_type": "code",
        "colab": {
          "base_uri": "https://localhost:8080/",
          "height": 34
        },
        "outputId": "208f6d59-64dd-4e63-fce7-31d81d13bb5b"
      },
      "source": [
        "_, train_acc = model.evaluate(X_train,y_train,verbose=0)\n",
        "_,test_acc=model.evaluate(X_test,y_test,verbose=0)\n",
        "print('Train: %.2f, Test: %.2f' % (train_acc, test_acc))\n"
      ],
      "execution_count": 8,
      "outputs": [
        {
          "output_type": "stream",
          "text": [
            "Train: 0.93, Test: 0.94\n"
          ],
          "name": "stdout"
        }
      ]
    },
    {
      "cell_type": "markdown",
      "metadata": {
        "id": "C8DXkD2SCpUs",
        "colab_type": "text"
      },
      "source": [
        "### Run the below cell to look at the performance of the model"
      ]
    },
    {
      "cell_type": "code",
      "metadata": {
        "id": "vCpUbbKPCpUt",
        "colab_type": "code",
        "colab": {
          "base_uri": "https://localhost:8080/",
          "height": 573
        },
        "outputId": "233691e2-9832-41b7-e618-14badcf33648"
      },
      "source": [
        "def plot_history(history):\n",
        "    loss_list = [s for s in history.history.keys() if 'loss' in s and 'val' not in s]\n",
        "    val_loss_list = [s for s in history.history.keys() if 'loss' in s and 'val' in s]\n",
        "    acc_list = [s for s in history.history.keys() if 'acc' in s and 'val' not in s]\n",
        "    val_acc_list = [s for s in history.history.keys() if 'acc' in s and 'val' in s]\n",
        "    \n",
        "    if len(loss_list) == 0:\n",
        "        print('Loss is missing in history')\n",
        "        return \n",
        "    \n",
        "    ## As loss always exists\n",
        "    epochs = range(1,len(history.history[loss_list[0]]) + 1)\n",
        "    \n",
        "    ## Loss\n",
        "    plt.figure(1)\n",
        "    for l in loss_list:\n",
        "        plt.plot(epochs, history.history[l], 'b', label='Training loss (' + str(str(format(history.history[l][-1],'.5f'))+')'))\n",
        "    for l in val_loss_list:\n",
        "        plt.plot(epochs, history.history[l], 'g', label='Validation loss (' + str(str(format(history.history[l][-1],'.5f'))+')'))\n",
        "    \n",
        "    plt.title('Loss')\n",
        "    plt.xlabel('Epochs')\n",
        "    plt.ylabel('Loss')\n",
        "    plt.legend()\n",
        "    \n",
        "    ## Accuracy\n",
        "    plt.figure(2)\n",
        "    for l in acc_list:\n",
        "        plt.plot(epochs, history.history[l], 'b', label='Training accuracy (' + str(format(history.history[l][-1],'.5f'))+')')\n",
        "    for l in val_acc_list:    \n",
        "        plt.plot(epochs, history.history[l], 'g', label='Validation accuracy (' + str(format(history.history[l][-1],'.5f'))+')')\n",
        "\n",
        "    plt.title('Accuracy')\n",
        "    plt.xlabel('Epochs')\n",
        "    plt.ylabel('Accuracy')\n",
        "    plt.legend()\n",
        "    plt.show()\n",
        "# Calling the function\n",
        "plot_history(history)"
      ],
      "execution_count": 9,
      "outputs": [
        {
          "output_type": "display_data",
          "data": {
            "image/png": "[encoded data removed]",
            "text/plain": [
              "<Figure size 432x288 with 1 Axes>"
            ]
          },
          "metadata": {
            "tags": [],
            "needs_background": "light"
          }
        },
        {
          "output_type": "display_data",
          "data": {
            "image/png": "[encoded data removed]",
            "text/plain": [
              "<Figure size 432x288 with 1 Axes>"
            ]
          },
          "metadata": {
            "tags": [],
            "needs_background": "light"
          }
        }
      ]
    },
    {
      "cell_type": "markdown",
      "metadata": {
        "id": "HvZsHRtXCpUx",
        "colab_type": "text"
      },
      "source": [
        "---------------------------------------------------------------------------\n",
        "## **2.Applying Normalization before Activation Function**\n",
        "-------------------------------------------------------------------\n",
        "\n",
        "### Create Model\n",
        "\n",
        "Construct a fully-connected network structure defined using dense class\n",
        "- Create a sequential model1\n",
        "- The model1 expects rows of data with 30 variables (the input_dim=30 argument)\n",
        "- The first hidden layer has 90 nodes.\n",
        "- Add Batch Normalization using BatchNormalization function to the model1.\n",
        "- Add the activation function as relu\n",
        "- The second hidden layer has 60 nodes.\n",
        "- Add Batch Normalization using BatchNormalization function to the model1.\n",
        "- Add the activation function as relu\n",
        "- The third hidden layer has 30 nodes.\n",
        "- Add Batch Normalization using BatchNormalization function to the model1.\n",
        "- Add the activation function as relu\n",
        "- The output layer has 1 node and uses the sigmoid activation function.\n",
        "- While comipling the model1 pass the following parameters -\n",
        "                    \n",
        "           -optimizer as Adagrad\n",
        "           -loss as binary cross entropy \n",
        "           -metrics as accuracy"
      ]
    },
    {
      "cell_type": "code",
      "metadata": {
        "id": "7Jotf9BoCpUx",
        "colab_type": "code",
        "colab": {}
      },
      "source": [
        "model1 = Sequential()\n",
        "model1.add(Dense(90, input_dim=30))\n",
        "model1.add(BatchNormalization())\n",
        "model1.add(Activation('relu'))\n",
        "model1.add(Dense(60))\n",
        "model1.add(BatchNormalization())\n",
        "model1.add(Activation('relu'))\n",
        "model1.add(Dense(30))\n",
        "model1.add(BatchNormalization())\n",
        "model1.add(Activation('relu'))\n",
        "model1.add(Dense(1, activation='sigmoid'))\n",
        "model1.compile(loss='binary_crossentropy', optimizer='Adagrad', metrics=['accuracy'])"
      ],
      "execution_count": 10,
      "outputs": []
    },
    {
      "cell_type": "markdown",
      "metadata": {
        "id": "fcgYe1sxCpU2",
        "colab_type": "text"
      },
      "source": [
        "### Fit the model\n",
        "- fit the model1 with X_train, y_train, epochs=50, batch_size=50,shuffle=False,validation_split=0.2,verbose=1 and save it in history1"
      ]
    },
    {
      "cell_type": "code",
      "metadata": {
        "scrolled": true,
        "id": "uc4YNIZhCpU3",
        "colab_type": "code",
        "colab": {
          "base_uri": "https://localhost:8080/",
          "height": 1000
        },
        "outputId": "58d31dc6-c676-451e-daf4-6f01ea5422a2"
      },
      "source": [
        "history1 = model1.fit(X_train,y_train,epochs=50,batch_size=50,shuffle=False,validation_split=0.2,verbose=1)"
      ],
      "execution_count": 11,
      "outputs": [
        {
          "output_type": "stream",
          "text": [
            "Epoch 1/50\n",
            "8/8 [==============================] - 0s 21ms/step - loss: 0.5234 - accuracy: 0.7060 - val_loss: 1.2646 - val_accuracy: 0.6484\n",
            "Epoch 2/50\n",
            "8/8 [==============================] - 0s 4ms/step - loss: 0.4478 - accuracy: 0.8022 - val_loss: 0.9391 - val_accuracy: 0.6484\n",
            "Epoch 3/50\n",
            "8/8 [==============================] - 0s 4ms/step - loss: 0.4161 - accuracy: 0.8352 - val_loss: 0.8234 - val_accuracy: 0.6264\n",
            "Epoch 4/50\n",
            "8/8 [==============================] - 0s 3ms/step - loss: 0.3951 - accuracy: 0.8462 - val_loss: 0.7687 - val_accuracy: 0.5604\n",
            "Epoch 5/50\n",
            "8/8 [==============================] - 0s 3ms/step - loss: 0.3794 - accuracy: 0.8571 - val_loss: 0.7394 - val_accuracy: 0.3956\n",
            "Epoch 6/50\n",
            "8/8 [==============================] - 0s 3ms/step - loss: 0.3665 - accuracy: 0.8709 - val_loss: 0.7192 - val_accuracy: 0.2967\n",
            "Epoch 7/50\n",
            "8/8 [==============================] - 0s 3ms/step - loss: 0.3554 - accuracy: 0.8791 - val_loss: 0.7033 - val_accuracy: 0.3956\n",
            "Epoch 8/50\n",
            "8/8 [==============================] - 0s 4ms/step - loss: 0.3456 - accuracy: 0.8901 - val_loss: 0.6905 - val_accuracy: 0.4945\n",
            "Epoch 9/50\n",
            "8/8 [==============================] - 0s 3ms/step - loss: 0.3368 - accuracy: 0.8901 - val_loss: 0.6688 - val_accuracy: 0.5275\n",
            "Epoch 10/50\n",
            "8/8 [==============================] - 0s 4ms/step - loss: 0.3289 - accuracy: 0.8956 - val_loss: 0.6423 - val_accuracy: 0.5824\n",
            "Epoch 11/50\n",
            "8/8 [==============================] - 0s 3ms/step - loss: 0.3216 - accuracy: 0.9011 - val_loss: 0.6130 - val_accuracy: 0.6154\n",
            "Epoch 12/50\n",
            "8/8 [==============================] - 0s 3ms/step - loss: 0.3149 - accuracy: 0.9066 - val_loss: 0.5843 - val_accuracy: 0.7143\n",
            "Epoch 13/50\n",
            "8/8 [==============================] - 0s 3ms/step - loss: 0.3088 - accuracy: 0.9093 - val_loss: 0.5585 - val_accuracy: 0.7473\n",
            "Epoch 14/50\n",
            "8/8 [==============================] - 0s 4ms/step - loss: 0.3029 - accuracy: 0.9093 - val_loss: 0.5368 - val_accuracy: 0.8022\n",
            "Epoch 15/50\n",
            "8/8 [==============================] - 0s 3ms/step - loss: 0.2978 - accuracy: 0.9148 - val_loss: 0.5174 - val_accuracy: 0.8352\n",
            "Epoch 16/50\n",
            "8/8 [==============================] - 0s 3ms/step - loss: 0.2931 - accuracy: 0.9231 - val_loss: 0.5001 - val_accuracy: 0.8571\n",
            "Epoch 17/50\n",
            "8/8 [==============================] - 0s 3ms/step - loss: 0.2887 - accuracy: 0.9231 - val_loss: 0.4848 - val_accuracy: 0.8681\n",
            "Epoch 18/50\n",
            "8/8 [==============================] - 0s 3ms/step - loss: 0.2846 - accuracy: 0.9231 - val_loss: 0.4710 - val_accuracy: 0.8791\n",
            "Epoch 19/50\n",
            "8/8 [==============================] - 0s 4ms/step - loss: 0.2807 - accuracy: 0.9231 - val_loss: 0.4592 - val_accuracy: 0.9011\n",
            "Epoch 20/50\n",
            "8/8 [==============================] - 0s 4ms/step - loss: 0.2771 - accuracy: 0.9231 - val_loss: 0.4480 - val_accuracy: 0.9121\n",
            "Epoch 21/50\n",
            "8/8 [==============================] - 0s 4ms/step - loss: 0.2738 - accuracy: 0.9231 - val_loss: 0.4363 - val_accuracy: 0.9231\n",
            "Epoch 22/50\n",
            "8/8 [==============================] - 0s 4ms/step - loss: 0.2707 - accuracy: 0.9231 - val_loss: 0.4254 - val_accuracy: 0.9231\n",
            "Epoch 23/50\n",
            "8/8 [==============================] - 0s 4ms/step - loss: 0.2679 - accuracy: 0.9203 - val_loss: 0.4148 - val_accuracy: 0.9231\n",
            "Epoch 24/50\n",
            "8/8 [==============================] - 0s 3ms/step - loss: 0.2651 - accuracy: 0.9203 - val_loss: 0.4043 - val_accuracy: 0.9231\n",
            "Epoch 25/50\n",
            "8/8 [==============================] - 0s 4ms/step - loss: 0.2626 - accuracy: 0.9231 - val_loss: 0.3942 - val_accuracy: 0.9231\n",
            "Epoch 26/50\n",
            "8/8 [==============================] - 0s 4ms/step - loss: 0.2601 - accuracy: 0.9231 - val_loss: 0.3852 - val_accuracy: 0.9341\n",
            "Epoch 27/50\n",
            "8/8 [==============================] - 0s 4ms/step - loss: 0.2579 - accuracy: 0.9231 - val_loss: 0.3770 - val_accuracy: 0.9341\n",
            "Epoch 28/50\n",
            "8/8 [==============================] - 0s 4ms/step - loss: 0.2557 - accuracy: 0.9231 - val_loss: 0.3696 - val_accuracy: 0.9121\n",
            "Epoch 29/50\n",
            "8/8 [==============================] - 0s 4ms/step - loss: 0.2537 - accuracy: 0.9231 - val_loss: 0.3627 - val_accuracy: 0.9231\n",
            "Epoch 30/50\n",
            "8/8 [==============================] - 0s 3ms/step - loss: 0.2519 - accuracy: 0.9258 - val_loss: 0.3560 - val_accuracy: 0.9231\n",
            "Epoch 31/50\n",
            "8/8 [==============================] - 0s 4ms/step - loss: 0.2501 - accuracy: 0.9258 - val_loss: 0.3496 - val_accuracy: 0.9121\n",
            "Epoch 32/50\n",
            "8/8 [==============================] - 0s 4ms/step - loss: 0.2485 - accuracy: 0.9258 - val_loss: 0.3432 - val_accuracy: 0.9231\n",
            "Epoch 33/50\n",
            "8/8 [==============================] - 0s 3ms/step - loss: 0.2469 - accuracy: 0.9258 - val_loss: 0.3373 - val_accuracy: 0.9231\n",
            "Epoch 34/50\n",
            "8/8 [==============================] - 0s 3ms/step - loss: 0.2453 - accuracy: 0.9258 - val_loss: 0.3317 - val_accuracy: 0.9231\n",
            "Epoch 35/50\n",
            "8/8 [==============================] - 0s 4ms/step - loss: 0.2439 - accuracy: 0.9258 - val_loss: 0.3262 - val_accuracy: 0.9121\n",
            "Epoch 36/50\n",
            "8/8 [==============================] - 0s 3ms/step - loss: 0.2425 - accuracy: 0.9258 - val_loss: 0.3208 - val_accuracy: 0.9121\n",
            "Epoch 37/50\n",
            "8/8 [==============================] - 0s 3ms/step - loss: 0.2412 - accuracy: 0.9258 - val_loss: 0.3157 - val_accuracy: 0.9121\n",
            "Epoch 38/50\n",
            "8/8 [==============================] - 0s 3ms/step - loss: 0.2399 - accuracy: 0.9258 - val_loss: 0.3109 - val_accuracy: 0.9341\n",
            "Epoch 39/50\n",
            "8/8 [==============================] - 0s 4ms/step - loss: 0.2386 - accuracy: 0.9258 - val_loss: 0.3062 - val_accuracy: 0.9341\n",
            "Epoch 40/50\n",
            "8/8 [==============================] - 0s 3ms/step - loss: 0.2374 - accuracy: 0.9258 - val_loss: 0.3019 - val_accuracy: 0.9341\n",
            "Epoch 41/50\n",
            "8/8 [==============================] - 0s 4ms/step - loss: 0.2362 - accuracy: 0.9258 - val_loss: 0.2978 - val_accuracy: 0.9341\n",
            "Epoch 42/50\n",
            "8/8 [==============================] - 0s 4ms/step - loss: 0.2350 - accuracy: 0.9258 - val_loss: 0.2940 - val_accuracy: 0.9341\n",
            "Epoch 43/50\n",
            "8/8 [==============================] - 0s 4ms/step - loss: 0.2338 - accuracy: 0.9258 - val_loss: 0.2906 - val_accuracy: 0.9341\n",
            "Epoch 44/50\n",
            "8/8 [==============================] - 0s 3ms/step - loss: 0.2327 - accuracy: 0.9258 - val_loss: 0.2875 - val_accuracy: 0.9341\n",
            "Epoch 45/50\n",
            "8/8 [==============================] - 0s 3ms/step - loss: 0.2316 - accuracy: 0.9286 - val_loss: 0.2845 - val_accuracy: 0.9341\n",
            "Epoch 46/50\n",
            "8/8 [==============================] - 0s 3ms/step - loss: 0.2306 - accuracy: 0.9286 - val_loss: 0.2817 - val_accuracy: 0.9341\n",
            "Epoch 47/50\n",
            "8/8 [==============================] - 0s 3ms/step - loss: 0.2295 - accuracy: 0.9286 - val_loss: 0.2789 - val_accuracy: 0.9341\n",
            "Epoch 48/50\n",
            "8/8 [==============================] - 0s 3ms/step - loss: 0.2285 - accuracy: 0.9286 - val_loss: 0.2763 - val_accuracy: 0.9341\n",
            "Epoch 49/50\n",
            "8/8 [==============================] - 0s 3ms/step - loss: 0.2275 - accuracy: 0.9286 - val_loss: 0.2739 - val_accuracy: 0.9341\n",
            "Epoch 50/50\n",
            "8/8 [==============================] - 0s 4ms/step - loss: 0.2266 - accuracy: 0.9286 - val_loss: 0.2715 - val_accuracy: 0.9341\n"
          ],
          "name": "stdout"
        }
      ]
    },
    {
      "cell_type": "markdown",
      "metadata": {
        "id": "dUYaYhcFCpU6",
        "colab_type": "text"
      },
      "source": [
        "### Evaluate the model\n",
        "- Evaluate the model1 with training data using X_train and y_train and give verbose as 0 and save it in train_acc1\n",
        "\n",
        "- In the similar way evaluate the model1 with test data using X_test and y_test using verbose as 0 and save it in test_acc1"
      ]
    },
    {
      "cell_type": "code",
      "metadata": {
        "scrolled": true,
        "id": "DY_EerffCpU7",
        "colab_type": "code",
        "colab": {
          "base_uri": "https://localhost:8080/",
          "height": 34
        },
        "outputId": "e4f3132f-8922-4f89-ac6b-1c992b1591d2"
      },
      "source": [
        "_, train_acc1 =model1.evaluate(X_train,y_train,verbose=0)\n",
        "_,test_acc1=model1.evaluate(X_test,y_test,verbose=0)\n",
        "print('Train: %.2f, Test: %.2f' % (train_acc1, test_acc1))\n"
      ],
      "execution_count": 12,
      "outputs": [
        {
          "output_type": "stream",
          "text": [
            "Train: 0.92, Test: 0.95\n"
          ],
          "name": "stdout"
        }
      ]
    },
    {
      "cell_type": "markdown",
      "metadata": {
        "id": "8MXvKwpTCpU-",
        "colab_type": "text"
      },
      "source": [
        "### Run the below cell to look at the performance of the model1"
      ]
    },
    {
      "cell_type": "code",
      "metadata": {
        "scrolled": false,
        "id": "vkzlvqjyCpU_",
        "colab_type": "code",
        "colab": {
          "base_uri": "https://localhost:8080/",
          "height": 513
        },
        "outputId": "3a16310e-a758-4aa8-e00f-73e5f00f6253"
      },
      "source": [
        "plt.figure(1)\n",
        "pyplot.plot(history1.history['accuracy'], label='train')\n",
        "pyplot.plot(history1.history['val_accuracy'], label='test')\n",
        "\n",
        "plt.figure(2)\n",
        "pyplot.plot(history1.history['loss'], label='train')\n",
        "pyplot.plot(history1.history['val_loss'], label='test')\n",
        "pyplot.legend()\n",
        "pyplot.show()"
      ],
      "execution_count": 13,
      "outputs": [
        {
          "output_type": "display_data",
          "data": {
            "image/png": "[encoded data removed]",
            "text/plain": [
              "<Figure size 432x288 with 1 Axes>"
            ]
          },
          "metadata": {
            "tags": [],
            "needs_background": "light"
          }
        },
        {
          "output_type": "display_data",
          "data": {
            "image/png": "[encoded data removed]",
            "text/plain": [
              "<Figure size 432x288 with 1 Axes>"
            ]
          },
          "metadata": {
            "tags": [],
            "needs_background": "light"
          }
        }
      ]
    },
    {
      "cell_type": "markdown",
      "metadata": {
        "id": "FNRKSrAPCpVD",
        "colab_type": "text"
      },
      "source": [
        "---------------------------------------------------------------------------\n",
        "## **3.Applying Normalization after Activation Function**\n",
        "-------------------------------------------------------------------\n",
        "\n",
        "### Create Model\n",
        "\n",
        "Construct a fully-connected network structure defined using dense class\n",
        "- Create a sequential model2\n",
        "- The model2 expects rows of data with 30 variables (the input_dim=30 argument)\n",
        "- The first hidden layer has 90 nodes and uses the relu activation function.\n",
        "- Add Batch Normalization using BatchNormalization function to the model2.\n",
        "- The second hidden layer has 60 nodes and uses the relu activation function.\n",
        "- Add Batch Normalization using BatchNormalization function to the model2.\n",
        "- The third hidden layer has 30 nodes and uses the relu activation function.\n",
        "- Add Batch Normalization using BatchNormalization function to the model2.\n",
        "- The output layer has 1 node and uses the sigmoid activation function.\n",
        "- While comipling the model2 pass the following parameters -\n",
        "                    \n",
        "           -optimizer as Adagrad\n",
        "           -loss as binary cross entropy \n",
        "           -metrics as accuracy"
      ]
    },
    {
      "cell_type": "code",
      "metadata": {
        "id": "yNhOjhB-CpVD",
        "colab_type": "code",
        "colab": {}
      },
      "source": [
        "model2 = Sequential()\n",
        "model2.add(Dense(90, input_dim=30, activation='relu'))\n",
        "model2.add(BatchNormalization())\n",
        "model2.add(Dense(60, activation='relu'))\n",
        "model2.add(BatchNormalization())\n",
        "model2.add(Dense(30, activation='relu'))\n",
        "model2.add(BatchNormalization())\n",
        "model2.add(Dense(1, activation='sigmoid'))\n",
        "model2.compile(loss='binary_crossentropy', optimizer='Adagrad', metrics=['accuracy'])"
      ],
      "execution_count": 14,
      "outputs": []
    },
    {
      "cell_type": "markdown",
      "metadata": {
        "id": "cfmvo_TGCpVG",
        "colab_type": "text"
      },
      "source": [
        "### Fit the model\n",
        "- fit the model2 with X_train, y_train, epochs=50, batch_size=50,shuffle=False,validation_split=0.2,verbose=1 and save it in history2"
      ]
    },
    {
      "cell_type": "code",
      "metadata": {
        "scrolled": true,
        "id": "CwzVkRMhCpVH",
        "colab_type": "code",
        "colab": {
          "base_uri": "https://localhost:8080/",
          "height": 1000
        },
        "outputId": "12e302cc-b04d-45f1-d080-52408a0480d0"
      },
      "source": [
        "history2 = model2.fit(X_train,y_train,epochs=50,batch_size=50,shuffle=False,validation_split=0.2,verbose=1)\n"
      ],
      "execution_count": 15,
      "outputs": [
        {
          "output_type": "stream",
          "text": [
            "Epoch 1/50\n",
            "8/8 [==============================] - 0s 20ms/step - loss: 0.5025 - accuracy: 0.8022 - val_loss: 0.8699 - val_accuracy: 0.3736\n",
            "Epoch 2/50\n",
            "8/8 [==============================] - 0s 3ms/step - loss: 0.3743 - accuracy: 0.8736 - val_loss: 0.7914 - val_accuracy: 0.1868\n",
            "Epoch 3/50\n",
            "8/8 [==============================] - 0s 4ms/step - loss: 0.3307 - accuracy: 0.9011 - val_loss: 0.7676 - val_accuracy: 0.1978\n",
            "Epoch 4/50\n",
            "8/8 [==============================] - 0s 3ms/step - loss: 0.3041 - accuracy: 0.8956 - val_loss: 0.7560 - val_accuracy: 0.2527\n",
            "Epoch 5/50\n",
            "8/8 [==============================] - 0s 3ms/step - loss: 0.2874 - accuracy: 0.8956 - val_loss: 0.7486 - val_accuracy: 0.3407\n",
            "Epoch 6/50\n",
            "8/8 [==============================] - 0s 3ms/step - loss: 0.2746 - accuracy: 0.8984 - val_loss: 0.7394 - val_accuracy: 0.3407\n",
            "Epoch 7/50\n",
            "8/8 [==============================] - 0s 3ms/step - loss: 0.2632 - accuracy: 0.9038 - val_loss: 0.7294 - val_accuracy: 0.3736\n",
            "Epoch 8/50\n",
            "8/8 [==============================] - 0s 4ms/step - loss: 0.2542 - accuracy: 0.9066 - val_loss: 0.7171 - val_accuracy: 0.3846\n",
            "Epoch 9/50\n",
            "8/8 [==============================] - 0s 4ms/step - loss: 0.2468 - accuracy: 0.9066 - val_loss: 0.7046 - val_accuracy: 0.4286\n",
            "Epoch 10/50\n",
            "8/8 [==============================] - 0s 4ms/step - loss: 0.2406 - accuracy: 0.9066 - val_loss: 0.6911 - val_accuracy: 0.4505\n",
            "Epoch 11/50\n",
            "8/8 [==============================] - 0s 4ms/step - loss: 0.2354 - accuracy: 0.9093 - val_loss: 0.6740 - val_accuracy: 0.5165\n",
            "Epoch 12/50\n",
            "8/8 [==============================] - 0s 4ms/step - loss: 0.2312 - accuracy: 0.9121 - val_loss: 0.6516 - val_accuracy: 0.5385\n",
            "Epoch 13/50\n",
            "8/8 [==============================] - 0s 4ms/step - loss: 0.2260 - accuracy: 0.9121 - val_loss: 0.6297 - val_accuracy: 0.5714\n",
            "Epoch 14/50\n",
            "8/8 [==============================] - 0s 4ms/step - loss: 0.2224 - accuracy: 0.9121 - val_loss: 0.6078 - val_accuracy: 0.6484\n",
            "Epoch 15/50\n",
            "8/8 [==============================] - 0s 4ms/step - loss: 0.2192 - accuracy: 0.9121 - val_loss: 0.5846 - val_accuracy: 0.7033\n",
            "Epoch 16/50\n",
            "8/8 [==============================] - 0s 5ms/step - loss: 0.2164 - accuracy: 0.9121 - val_loss: 0.5631 - val_accuracy: 0.7363\n",
            "Epoch 17/50\n",
            "8/8 [==============================] - 0s 4ms/step - loss: 0.2138 - accuracy: 0.9093 - val_loss: 0.5428 - val_accuracy: 0.8022\n",
            "Epoch 18/50\n",
            "8/8 [==============================] - 0s 4ms/step - loss: 0.2114 - accuracy: 0.9093 - val_loss: 0.5226 - val_accuracy: 0.8132\n",
            "Epoch 19/50\n",
            "8/8 [==============================] - 0s 4ms/step - loss: 0.2092 - accuracy: 0.9093 - val_loss: 0.5042 - val_accuracy: 0.8352\n",
            "Epoch 20/50\n",
            "8/8 [==============================] - 0s 4ms/step - loss: 0.2072 - accuracy: 0.9066 - val_loss: 0.4876 - val_accuracy: 0.8571\n",
            "Epoch 21/50\n",
            "8/8 [==============================] - 0s 4ms/step - loss: 0.2052 - accuracy: 0.9066 - val_loss: 0.4722 - val_accuracy: 0.8681\n",
            "Epoch 22/50\n",
            "8/8 [==============================] - 0s 4ms/step - loss: 0.2033 - accuracy: 0.9093 - val_loss: 0.4571 - val_accuracy: 0.8791\n",
            "Epoch 23/50\n",
            "8/8 [==============================] - 0s 4ms/step - loss: 0.2015 - accuracy: 0.9121 - val_loss: 0.4431 - val_accuracy: 0.8901\n",
            "Epoch 24/50\n",
            "8/8 [==============================] - 0s 4ms/step - loss: 0.1998 - accuracy: 0.9121 - val_loss: 0.4297 - val_accuracy: 0.8901\n",
            "Epoch 25/50\n",
            "8/8 [==============================] - 0s 4ms/step - loss: 0.1982 - accuracy: 0.9176 - val_loss: 0.4164 - val_accuracy: 0.9011\n",
            "Epoch 26/50\n",
            "8/8 [==============================] - 0s 4ms/step - loss: 0.1967 - accuracy: 0.9176 - val_loss: 0.4033 - val_accuracy: 0.9011\n",
            "Epoch 27/50\n",
            "8/8 [==============================] - 0s 4ms/step - loss: 0.1952 - accuracy: 0.9176 - val_loss: 0.3904 - val_accuracy: 0.9011\n",
            "Epoch 28/50\n",
            "8/8 [==============================] - 0s 3ms/step - loss: 0.1937 - accuracy: 0.9176 - val_loss: 0.3779 - val_accuracy: 0.9011\n",
            "Epoch 29/50\n",
            "8/8 [==============================] - 0s 4ms/step - loss: 0.1923 - accuracy: 0.9176 - val_loss: 0.3660 - val_accuracy: 0.9121\n",
            "Epoch 30/50\n",
            "8/8 [==============================] - 0s 3ms/step - loss: 0.1910 - accuracy: 0.9176 - val_loss: 0.3552 - val_accuracy: 0.9011\n",
            "Epoch 31/50\n",
            "8/8 [==============================] - 0s 4ms/step - loss: 0.1898 - accuracy: 0.9203 - val_loss: 0.3450 - val_accuracy: 0.9011\n",
            "Epoch 32/50\n",
            "8/8 [==============================] - 0s 3ms/step - loss: 0.1885 - accuracy: 0.9203 - val_loss: 0.3353 - val_accuracy: 0.8901\n",
            "Epoch 33/50\n",
            "8/8 [==============================] - 0s 4ms/step - loss: 0.1874 - accuracy: 0.9203 - val_loss: 0.3260 - val_accuracy: 0.8901\n",
            "Epoch 34/50\n",
            "8/8 [==============================] - 0s 4ms/step - loss: 0.1862 - accuracy: 0.9203 - val_loss: 0.3171 - val_accuracy: 0.9011\n",
            "Epoch 35/50\n",
            "8/8 [==============================] - 0s 3ms/step - loss: 0.1851 - accuracy: 0.9203 - val_loss: 0.3084 - val_accuracy: 0.9121\n",
            "Epoch 36/50\n",
            "8/8 [==============================] - 0s 4ms/step - loss: 0.1841 - accuracy: 0.9203 - val_loss: 0.3001 - val_accuracy: 0.9231\n",
            "Epoch 37/50\n",
            "8/8 [==============================] - 0s 3ms/step - loss: 0.1831 - accuracy: 0.9203 - val_loss: 0.2926 - val_accuracy: 0.9231\n",
            "Epoch 38/50\n",
            "8/8 [==============================] - 0s 4ms/step - loss: 0.1821 - accuracy: 0.9203 - val_loss: 0.2861 - val_accuracy: 0.9231\n",
            "Epoch 39/50\n",
            "8/8 [==============================] - 0s 3ms/step - loss: 0.1811 - accuracy: 0.9231 - val_loss: 0.2798 - val_accuracy: 0.9231\n",
            "Epoch 40/50\n",
            "8/8 [==============================] - 0s 4ms/step - loss: 0.1801 - accuracy: 0.9231 - val_loss: 0.2739 - val_accuracy: 0.9231\n",
            "Epoch 41/50\n",
            "8/8 [==============================] - 0s 3ms/step - loss: 0.1791 - accuracy: 0.9231 - val_loss: 0.2684 - val_accuracy: 0.9231\n",
            "Epoch 42/50\n",
            "8/8 [==============================] - 0s 3ms/step - loss: 0.1781 - accuracy: 0.9231 - val_loss: 0.2633 - val_accuracy: 0.9231\n",
            "Epoch 43/50\n",
            "8/8 [==============================] - 0s 4ms/step - loss: 0.1772 - accuracy: 0.9231 - val_loss: 0.2588 - val_accuracy: 0.9231\n",
            "Epoch 44/50\n",
            "8/8 [==============================] - 0s 3ms/step - loss: 0.1763 - accuracy: 0.9231 - val_loss: 0.2545 - val_accuracy: 0.9231\n",
            "Epoch 45/50\n",
            "8/8 [==============================] - 0s 3ms/step - loss: 0.1754 - accuracy: 0.9231 - val_loss: 0.2503 - val_accuracy: 0.9231\n",
            "Epoch 46/50\n",
            "8/8 [==============================] - 0s 3ms/step - loss: 0.1745 - accuracy: 0.9231 - val_loss: 0.2465 - val_accuracy: 0.9231\n",
            "Epoch 47/50\n",
            "8/8 [==============================] - 0s 4ms/step - loss: 0.1736 - accuracy: 0.9258 - val_loss: 0.2426 - val_accuracy: 0.9231\n",
            "Epoch 48/50\n",
            "8/8 [==============================] - 0s 3ms/step - loss: 0.1728 - accuracy: 0.9286 - val_loss: 0.2394 - val_accuracy: 0.9231\n",
            "Epoch 49/50\n",
            "8/8 [==============================] - 0s 3ms/step - loss: 0.1720 - accuracy: 0.9286 - val_loss: 0.2360 - val_accuracy: 0.9231\n",
            "Epoch 50/50\n",
            "8/8 [==============================] - 0s 3ms/step - loss: 0.1711 - accuracy: 0.9313 - val_loss: 0.2331 - val_accuracy: 0.9231\n"
          ],
          "name": "stdout"
        }
      ]
    },
    {
      "cell_type": "markdown",
      "metadata": {
        "id": "JU2BNqlrCpVL",
        "colab_type": "text"
      },
      "source": [
        "### Evaluate the model\n",
        "- Evaluate the model2 with training data using X_train and y_train and give verbose as 0 and save it in train_acc2\n",
        "\n",
        "- In the similar way evaluate the model2 with test data using X_test and y_test using verbose as 0 and save it in test_acc2"
      ]
    },
    {
      "cell_type": "code",
      "metadata": {
        "id": "MkOgCDyUCpVL",
        "colab_type": "code",
        "colab": {
          "base_uri": "https://localhost:8080/",
          "height": 34
        },
        "outputId": "df38ac27-e15c-4cd1-dcea-dc9cab5f1db1"
      },
      "source": [
        "_, train_acc2 =model2.evaluate(X_train,y_train,verbose=0)\n",
        "_,test_acc2=model2.evaluate(X_test,y_test,verbose=0)\n",
        "print('Train: %.2f, Test: %.2f' % (train_acc2, test_acc2))\n"
      ],
      "execution_count": 16,
      "outputs": [
        {
          "output_type": "stream",
          "text": [
            "Train: 0.93, Test: 0.96\n"
          ],
          "name": "stdout"
        }
      ]
    },
    {
      "cell_type": "markdown",
      "metadata": {
        "id": "APCmx2G7CpVO",
        "colab_type": "text"
      },
      "source": [
        "### Run the below cell to look at the performance of the model2"
      ]
    },
    {
      "cell_type": "code",
      "metadata": {
        "scrolled": false,
        "id": "_fYFNQH2CpVP",
        "colab_type": "code",
        "colab": {
          "base_uri": "https://localhost:8080/",
          "height": 516
        },
        "outputId": "7db631fa-675b-4e7a-9a41-a0fd892df346"
      },
      "source": [
        "plt.figure(1)\n",
        "pyplot.plot(history2.history['accuracy'], label='train')\n",
        "pyplot.plot(history2.history['val_accuracy'], label='test')\n",
        "\n",
        "plt.figure(2)\n",
        "pyplot.plot(history2.history['loss'], label='train')\n",
        "pyplot.plot(history2.history['val_loss'], label='test')\n",
        "pyplot.legend()\n",
        "pyplot.show()"
      ],
      "execution_count": 17,
      "outputs": [
        {
          "output_type": "display_data",
          "data": {
            "image/png": "[encoded data removed]",
            "text/plain": [
              "<Figure size 432x288 with 1 Axes>"
            ]
          },
          "metadata": {
            "tags": [],
            "needs_background": "light"
          }
        },
        {
          "output_type": "display_data",
          "data": {
            "image/png": "[encoded data removed]",
            "text/plain": [
              "<Figure size 432x288 with 1 Axes>"
            ]
          },
          "metadata": {
            "tags": [],
            "needs_background": "light"
          }
        }
      ]
    },
    {
      "cell_type": "markdown",
      "metadata": {
        "id": "Fq8kODkACpVT",
        "colab_type": "text"
      },
      "source": [
        "### Run the below cell to plot the results"
      ]
    },
    {
      "cell_type": "code",
      "metadata": {
        "scrolled": false,
        "id": "uNCLeKm5CpVU",
        "colab_type": "code",
        "colab": {
          "base_uri": "https://localhost:8080/",
          "height": 1000
        },
        "outputId": "d698eec1-44e3-4b25-b6d8-cfd216179f26"
      },
      "source": [
        "train_list=[train_acc,train_acc1,train_acc2]\n",
        "test_list=[test_acc,test_acc1,test_acc2]\n",
        "\n",
        "df=pd.DataFrame(train_list)\n",
        "\n",
        "df[\"test_acc\"]=test_list\n",
        "\n",
        "df=df.rename(columns={0:\"train_acc\"})\n",
        "\n",
        "df[\"label\"]=[\"Without_Norm\",\"With_Norm_Before_Activation\",\"With_Norm_After_Activation\"]\n",
        "plt.figure(1)\n",
        "pyplot.figure(figsize=(10,8))\n",
        "#pyplot.xticks(grid_result1.cv_results_['mean_test_score'])\n",
        "pyplot.title(\"Train Accuracy of the model\")\n",
        "plot1=sns.barplot(df[\"label\"],df[\"train_acc\"],order=df[\"label\"])\n",
        "plot1.set(ylabel='Score')\n",
        "plt.figure(2)\n",
        "pyplot.figure(figsize=(10,8))\n",
        "#pyplot.xticks(grid_result1.cv_results_['mean_test_score'])\n",
        "pyplot.title(\"Test Accuracy of the model\")\n",
        "plot2=sns.barplot(df[\"label\"],df[\"test_acc\"],order=df[\"label\"])\n",
        "plot2.set(ylabel='Score')\n",
        "pyplot.show() "
      ],
      "execution_count": 18,
      "outputs": [
        {
          "output_type": "display_data",
          "data": {
            "text/plain": [
              "<Figure size 432x288 with 0 Axes>"
            ]
          },
          "metadata": {
            "tags": []
          }
        },
        {
          "output_type": "display_data",
          "data": {
            "image/png": "[encoded data removed]",
            "text/plain": [
              "<Figure size 720x576 with 1 Axes>"
            ]
          },
          "metadata": {
            "tags": [],
            "needs_background": "light"
          }
        },
        {
          "output_type": "display_data",
          "data": {
            "image/png": "[encoded data removed]",
            "text/plain": [
              "<Figure size 720x576 with 1 Axes>"
            ]
          },
          "metadata": {
            "tags": [],
            "needs_background": "light"
          }
        }
      ]
    },
    {
      "cell_type": "markdown",
      "metadata": {
        "id": "2xNcxFCSCpVY",
        "colab_type": "text"
      },
      "source": [
        "### Run the below cell to save the models"
      ]
    },
    {
      "cell_type": "code",
      "metadata": {
        "id": "_H32twx8CpVZ",
        "colab_type": "code",
        "colab": {}
      },
      "source": [
        "# serialize model to JSON\n",
        "model_json = model.to_json()\n",
        "with open(\"model.json\", \"w\") as json_file:\n",
        "    json_file.write(model_json)\n",
        "# serialize weights to HDF5\n",
        "model.save_weights(\"model.h5\")\n",
        "\n",
        "# serialize model to JSON\n",
        "model_json1 = model1.to_json()\n",
        "with open(\"model1.json\", \"w\") as json_file1:\n",
        "    json_file1.write(model_json1)\n",
        "# serialize weights to HDF5\n",
        "model1.save_weights(\"model1.h5\")\n",
        "\n",
        "# serialize model to JSON\n",
        "model_json2 = model2.to_json()\n",
        "with open(\"model2.json\", \"w\") as json_file2:\n",
        "    json_file2.write(model_json2)\n",
        "# serialize weights to HDF5\n",
        "model2.save_weights(\"model2.h5\")"
      ],
      "execution_count": 19,
      "outputs": []
    },
    {
      "cell_type": "markdown",
      "metadata": {
        "id": "Y01M3zMeCpVc",
        "colab_type": "text"
      },
      "source": [
        "### Run the below cell to save the scores "
      ]
    },
    {
      "cell_type": "code",
      "metadata": {
        "id": "IzjefIj2CpVd",
        "colab_type": "code",
        "colab": {}
      },
      "source": [
        "with open(\"train_acc1.txt\",\"w\") as f:\n",
        "    f.write(str(round(train_acc,2)))\n",
        "with open(\"test_acc1.txt\",\"w\") as f:\n",
        "    f.write(str(round(test_acc,2)))\n",
        "\n",
        "with open(\"train_acc2.txt\",\"w\") as f:\n",
        "    f.write(str(round(train_acc1,2)))\n",
        "with open(\"test_acc2.txt\",\"w\") as f:\n",
        "    f.write(str(round(test_acc1,2)))\n",
        "    \n",
        "with open(\"train_acc3.txt\",\"w\") as f:\n",
        "    f.write(str(round(train_acc2,2)))\n",
        "with open(\"test_acc3.txt\",\"w\") as f:\n",
        "    f.write(str(round(test_acc2,2)))\n",
        "        "
      ],
      "execution_count": 20,
      "outputs": []
    },
    {
      "cell_type": "markdown",
      "metadata": {
        "id": "4tIyq0hGCpVg",
        "colab_type": "text"
      },
      "source": [
        "https://machinelearningmastery.com/how-to-accelerate-learning-of-deep-neural-networks-with-batch-normalization/"
      ]
    },
    {
      "cell_type": "code",
      "metadata": {
        "id": "hggSmhxSL5jC",
        "colab_type": "code",
        "colab": {}
      },
      "source": [
        ""
      ],
      "execution_count": null,
      "outputs": []
    }
  ]
}