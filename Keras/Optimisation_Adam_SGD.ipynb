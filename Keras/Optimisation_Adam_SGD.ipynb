{
 "cells": [
  {
   "cell_type": "markdown",
   "metadata": {},
   "source": [
    "## **Optimization using Tensorflow Keras**\n",
    "In this scenario of hackerrank, you will be exploring about the **Optimisation** and different optimizers present and how to use it.  \n",
    "\n",
    "We will look at three scenarios here\n",
    "1. Tuning different optimisation algorithms, \n",
    "2. Tuning learning rate and momentum of SGD optimizer\n",
    "3. Tuning beta values of Adam optimizer\n",
    "\n",
    "**Note** - Finally restart and run all the cells after the completion of the challenge\n"
   ]
  },
  {
   "cell_type": "markdown",
   "metadata": {},
   "source": [
    "### Import the required packages"
   ]
  },
  {
   "cell_type": "code",
   "execution_count": 1,
   "metadata": {
    "scrolled": true
   },
   "outputs": [
    {
     "name": "stderr",
     "output_type": "stream",
     "text": [
      "Using TensorFlow backend.\n"
     ]
    }
   ],
   "source": [
    "import numpy as np\n",
    "from sklearn.model_selection import GridSearchCV\n",
    "from keras.models import Sequential\n",
    "from keras.layers import Dense\n",
    "from keras.wrappers.scikit_learn import KerasClassifier\n",
    "from sklearn.datasets import load_iris\n",
    "from sklearn.model_selection import train_test_split\n",
    "from sklearn.preprocessing import LabelEncoder,StandardScaler\n",
    "from sklearn.utils import shuffle\n",
    "from keras.utils.np_utils import to_categorical\n",
    "from keras.optimizers import SGD,Adam\n",
    "from matplotlib import pyplot\n",
    "import seaborn as sns\n",
    "import pandas as pd\n",
    "from keras.models import model_from_json\n"
   ]
  },
  {
   "cell_type": "markdown",
   "metadata": {},
   "source": [
    "### Load the Dataset\n",
    "\n",
    "- Load the iris dataset using load_iris() function.\n",
    "- Store the data of the iris dataset in the variable **X**.\n",
    "- Store the target of the iris dataset in the variable **y**.\n",
    "- Convert the variable **y** into categorial variable using function to_categorial and save it in variable **y**.\n",
    "- Set seed value as 7 in the variable **seed** and use random.seed function in numpy to set seed value.\n",
    "- Now shuffle the data **X** and **y** using shuffle function and save it in variables **X** ,**Y**."
   ]
  },
  {
   "cell_type": "code",
   "execution_count": 2,
   "metadata": {},
   "outputs": [],
   "source": [
    "# fix random seed for reproducibility\n",
    "\n",
    "iris = load_iris()\n",
    "X= iris.data\n",
    "#Y = to_categorical(iris.target,3)\n",
    "y = iris.target\n",
    "y = to_categorical(y)\n",
    "seed =7\n",
    "\n",
    "X, Y = shuffle(X,y)"
   ]
  },
  {
   "cell_type": "markdown",
   "metadata": {},
   "source": [
    "---------------------------------------------------------------------------\n",
    "## **1.Tuning Different Optimisation Algorithms**\n",
    "-------------------------------------------------------------------\n",
    "\n",
    "In variable optimizer pass the following optimizers as a list -\n",
    "- SGD,RMSprop,Adam,Nadam\n",
    "\n",
    "In param_grid pass parameter optimizer as optimizer using dict"
   ]
  },
  {
   "cell_type": "code",
   "execution_count": 3,
   "metadata": {},
   "outputs": [],
   "source": [
    "optimizer = ['SGD',\"RMSprop\",'Adam','Nadam']\n",
    "\n",
    "param_grid = dict(optimizer=optimizer)"
   ]
  },
  {
   "cell_type": "markdown",
   "metadata": {},
   "source": [
    "### Create Model\n",
    "\n",
    "Construct a fully-connected network structure defined using dense class in the function create_model\n",
    "- Create a sequential model\n",
    "- The model expects rows of data with 4 variables (the input_dim=4 argument)\n",
    "- The first hidden layer has 64 nodes and uses the relu activation function.\n",
    "- The second hidden layer has 32 nodes and uses the relu activation function.\n",
    "- The third hidden layer has 16 nodes and uses the relu activation function.\n",
    "- The output layer has 3 nodes and uses the softmax activation function.\n",
    "- While comipling the model pass the following parameters -\n",
    "                    \n",
    "           -optimizer as optimizer\n",
    "           -loss as categorical cross entropy \n",
    "           -metrics as accuracy.\n",
    " -  Return the compiled model"
   ]
  },
  {
   "cell_type": "code",
   "execution_count": 4,
   "metadata": {},
   "outputs": [],
   "source": [
    "def create_model(optimizer='adam'):\n",
    "    \n",
    "    model = Sequential()\n",
    "    model.add(Dense(64, input_dim=4, activation='relu'))\n",
    "    model.add(Dense(32, activation='relu'))\n",
    "    model.add(Dense(16, activation='relu'))\n",
    "    model.add(Dense(3, activation='softmax'))\n",
    "    model.compile(loss='categorical_crossentropy', optimizer=optimizer, metrics=['accuracy'])\n",
    "    return model"
   ]
  },
  {
   "cell_type": "markdown",
   "metadata": {},
   "source": [
    "Use the KerasClassifier function to call the model function with following parameters -\n",
    "- build_fn as create_model\n",
    "- batch_size as 10\n",
    "- verbose as 0\n",
    "- epochs as 10\n",
    "\n",
    "Save the above in the variable model"
   ]
  },
  {
   "cell_type": "code",
   "execution_count": 5,
   "metadata": {},
   "outputs": [],
   "source": [
    "model = KerasClassifier(build_fn=create_model,epochs=10, batch_size=10,shuffle=True,validation_split=0.2,verbose=0)"
   ]
  },
  {
   "cell_type": "markdown",
   "metadata": {},
   "source": [
    "In grid use the GridSearchCV function and pass the following parameters -\n",
    "- estimator as model\n",
    "- param_grid as param_grid\n",
    "- n_jobs as 1\n",
    "\n",
    "Now fit the model with X and Y using grid and save it in grid_result\n",
    "\n",
    "**Note** - While running fit model this might take upto 2-5 minutes to run this cell"
   ]
  },
  {
   "cell_type": "code",
   "execution_count": 6,
   "metadata": {
    "scrolled": false
   },
   "outputs": [
    {
     "name": "stdout",
     "output_type": "stream",
     "text": [
      "WARNING:tensorflow:From /home/user/.local/lib/python3.5/site-packages/tensorflow/python/ops/resource_variable_ops.py:435: colocate_with (from tensorflow.python.framework.ops) is deprecated and will be removed in a future version.\n",
      "Instructions for updating:\n",
      "Colocations handled automatically by placer.\n",
      "WARNING:tensorflow:From /home/user/.local/lib/python3.5/site-packages/tensorflow/python/ops/math_ops.py:3066: to_int32 (from tensorflow.python.ops.math_ops) is deprecated and will be removed in a future version.\n",
      "Instructions for updating:\n",
      "Use tf.cast instead.\n"
     ]
    }
   ],
   "source": [
    "grid = GridSearchCV(estimator=model, param_grid=param_grid, n_jobs=1)\n",
    "grid_result = grid.fit(X, Y)"
   ]
  },
  {
   "cell_type": "markdown",
   "metadata": {},
   "source": [
    "### Run the below cell to summarize the results"
   ]
  },
  {
   "cell_type": "code",
   "execution_count": 7,
   "metadata": {},
   "outputs": [
    {
     "name": "stdout",
     "output_type": "stream",
     "text": [
      "Best: 0.940000 using {'optimizer': 'Adam'}\n",
      "0.713333 (0.263987) with: {'optimizer': 'SGD'}\n",
      "0.913333 (0.052493) with: {'optimizer': 'RMSprop'}\n",
      "0.940000 (0.032660) with: {'optimizer': 'Adam'}\n",
      "0.913333 (0.047140) with: {'optimizer': 'Nadam'}\n"
     ]
    }
   ],
   "source": [
    "# summarize results\n",
    "print(\"Best: %f using %s\" % (grid_result.best_score_, grid_result.best_params_))\n",
    "means = grid_result.cv_results_['mean_test_score']\n",
    "stds = grid_result.cv_results_['std_test_score']\n",
    "params = grid_result.cv_results_['params']\n",
    "for mean, stdev, param in zip(means, stds, params):\n",
    "    print(\"%f (%f) with: %r\" % (mean, stdev, param))"
   ]
  },
  {
   "cell_type": "markdown",
   "metadata": {},
   "source": [
    "### Run the below cell to plot the results"
   ]
  },
  {
   "cell_type": "code",
   "execution_count": 8,
   "metadata": {
    "scrolled": false
   },
   "outputs": [
    {
     "data": {
      "image/png": "[encoded data removed]",
      "text/plain": [
       "<Figure size 720x576 with 1 Axes>"
      ]
     },
     "metadata": {
      "needs_background": "light"
     },
     "output_type": "display_data"
    }
   ],
   "source": [
    "pyplot.figure(figsize=(10,8))\n",
    "#pyplot.xticks(grid_result1.cv_results_['mean_test_score'])\n",
    "pyplot.title(\"Performance metrics of each optimiser\")\n",
    "plot=sns.barplot(grid_result.cv_results_['mean_test_score'],optimizer)\n",
    "pyplot.show() "
   ]
  },
  {
   "cell_type": "markdown",
   "metadata": {},
   "source": [
    "---------------------------------------------------------------------------\n",
    "## **2.Tuning Learning rate and Momentum of SGD Optimizer**\n",
    "-------------------------------------------------------------------\n",
    "In variable learn_rate pass the following learn rates as a list -\n",
    "- 0.001, 0.01,0.3\n",
    "\n",
    "In variable momentum pass the following momentums as a list -\n",
    "- 0.0, 0.4, 0.9"
   ]
  },
  {
   "cell_type": "code",
   "execution_count": 9,
   "metadata": {},
   "outputs": [],
   "source": [
    "learn_rate = [0.001, 0.01,0.3]\n",
    "momentum = [0.0, 0.4, 0.9]"
   ]
  },
  {
   "cell_type": "markdown",
   "metadata": {},
   "source": [
    "\n",
    "### Create Model\n",
    "\n",
    "Use the same model parameters as above to construct the model in the function create_model1\n",
    "\n",
    "In the variable optimizer pass the following parameters using the optimizer SGD\n",
    "\n",
    "     -lr as learn_rate\n",
    "     -momentum as momentum\n",
    "While comipling the model pass the following parameters -\n",
    "\n",
    "     -optimizer as optimizer\n",
    "     -loss as categorical cross entropy \n",
    "     -metrics as accuracy.\n",
    "Return the compiled model"
   ]
  },
  {
   "cell_type": "code",
   "execution_count": 10,
   "metadata": {},
   "outputs": [],
   "source": [
    "def create_model1(learn_rate=0.01, momentum=0):\n",
    "    model = Sequential()\n",
    "    model.add(Dense(64, input_dim=4, activation='relu'))\n",
    "    model.add(Dense(32, activation='relu'))\n",
    "    model.add(Dense(16, activation='relu'))\n",
    "    model.add(Dense(3, activation='softmax'))\n",
    "    optimizer=SGD(learning_rate=learn_rate, momentum=momentum)\n",
    "    model.compile(loss='categorical_crossentropy', optimizer=optimizer, metrics=['accuracy'])\n",
    "    \n",
    "    return model\n"
   ]
  },
  {
   "cell_type": "markdown",
   "metadata": {},
   "source": [
    "Use the KerasClassifier function to call the model function with following parameters -\n",
    "\n",
    "- build_fn as create_model1\n",
    "- batch_size as 10\n",
    "- verbose as 0\n",
    "- epochs as 10\n",
    "\n",
    "Save the above in the variable model1"
   ]
  },
  {
   "cell_type": "code",
   "execution_count": 11,
   "metadata": {},
   "outputs": [],
   "source": [
    "model1 = KerasClassifier(build_fn=create_model1,epochs=10, batch_size=10,shuffle=True,validation_split=0.2,verbose=0)"
   ]
  },
  {
   "cell_type": "markdown",
   "metadata": {},
   "source": [
    "In param_grid1 pass parameter learn_rate as learn_rate and momentum as momentum using dict\n",
    "\n",
    "In grid1 use the GridSearchCV function and pass the following parameters -\n",
    "- estimator as model1\n",
    "- param_grid as param_grid1\n",
    "- n_jobs as 1\n",
    "\n"
   ]
  },
  {
   "cell_type": "code",
   "execution_count": 12,
   "metadata": {},
   "outputs": [],
   "source": [
    "param_grid1 = dict(learn_rate=learn_rate,momentum=momentum)\n",
    "grid1 = GridSearchCV(estimator=model1, param_grid=param_grid1, n_jobs=1)"
   ]
  },
  {
   "cell_type": "markdown",
   "metadata": {},
   "source": [
    "Use random.seed function in numpy to set seed value.\n",
    "\n",
    "Now fit the model with X and Y using grid1 and save it in grid_result1\n",
    "\n",
    "**Note** - While running fit model this might take upto 2-5 minutes to run this cell"
   ]
  },
  {
   "cell_type": "code",
   "execution_count": 13,
   "metadata": {
    "scrolled": true
   },
   "outputs": [],
   "source": [
    "grid_result1 = grid1.fit(X, Y)"
   ]
  },
  {
   "cell_type": "markdown",
   "metadata": {},
   "source": [
    "### Run the below cell to summarize the results"
   ]
  },
  {
   "cell_type": "code",
   "execution_count": 14,
   "metadata": {
    "scrolled": false
   },
   "outputs": [
    {
     "name": "stdout",
     "output_type": "stream",
     "text": [
      "Best: 0.946667 using {'learn_rate': 0.01, 'momentum': 0.9}\n",
      "0.533333 (0.287673) with: {'learn_rate': 0.001, 'momentum': 0.0}\n",
      "0.640000 (0.016330) with: {'learn_rate': 0.001, 'momentum': 0.4}\n",
      "0.746667 (0.083799) with: {'learn_rate': 0.001, 'momentum': 0.9}\n",
      "0.660000 (0.032660) with: {'learn_rate': 0.01, 'momentum': 0.0}\n",
      "0.840000 (0.081650) with: {'learn_rate': 0.01, 'momentum': 0.4}\n",
      "0.946667 (0.047140) with: {'learn_rate': 0.01, 'momentum': 0.9}\n",
      "0.440000 (0.155778) with: {'learn_rate': 0.3, 'momentum': 0.0}\n",
      "0.440000 (0.141421) with: {'learn_rate': 0.3, 'momentum': 0.4}\n",
      "0.320000 (0.016330) with: {'learn_rate': 0.3, 'momentum': 0.9}\n"
     ]
    }
   ],
   "source": [
    "# summarize results\n",
    "print(\"Best: %f using %s\" % (grid_result1.best_score_, grid_result1.best_params_))\n",
    "means1 = grid_result1.cv_results_['mean_test_score']\n",
    "stds1 = grid_result1.cv_results_['std_test_score']\n",
    "params1 = grid_result1.cv_results_['params']\n",
    "for mean, stdev, param in zip(means1, stds1, params1):\n",
    "    print(\"%f (%f) with: %r\" % (mean, stdev, param))"
   ]
  },
  {
   "cell_type": "markdown",
   "metadata": {},
   "source": [
    "### Run the below cell to plot the results"
   ]
  },
  {
   "cell_type": "code",
   "execution_count": 15,
   "metadata": {
    "scrolled": false
   },
   "outputs": [
    {
     "data": {
      "image/png": "[encoded data removed]",
      "text/plain": [
       "<Figure size 720x576 with 1 Axes>"
      ]
     },
     "metadata": {
      "needs_background": "light"
     },
     "output_type": "display_data"
    }
   ],
   "source": [
    "params1=pd.DataFrame(params1)\n",
    "pyplot.figure(figsize=(10,8))\n",
    "#pyplot.xticks(grid_result1.cv_results_['mean_test_score'])\n",
    "pyplot.title(\"Performance metrics of SGD optimiser with different learning rates and momentum\")\n",
    "plot1=sns.barplot(params1[\"learn_rate\"],grid_result1.cv_results_['mean_test_score'],hue=params1[\"momentum\"])\n",
    "plot1.set(ylabel='Score')\n",
    "pyplot.show() "
   ]
  },
  {
   "cell_type": "markdown",
   "metadata": {},
   "source": [
    "---------------------------------------------------------------------------\n",
    "## **3.Tuning beta values of Adam Optimizer**\n",
    "-------------------------------------------------------------------\n",
    "\n",
    "\n",
    "In variable beta_1 pass the following learn rates as a list -\n",
    "- 0.001, 0.01,0.3\n",
    "\n",
    "In variable beta_2 pass the following momentums as a list -\n",
    "- 0.0, 0.4, 0.9"
   ]
  },
  {
   "cell_type": "code",
   "execution_count": 16,
   "metadata": {},
   "outputs": [],
   "source": [
    "beta_1 = [0.001, 0.01,0.3]\n",
    "beta_2 = [0.0, 0.4, 0.9]"
   ]
  },
  {
   "cell_type": "markdown",
   "metadata": {},
   "source": [
    "### Create Model\n",
    "\n",
    "Use the same model parameters as above to construct the model in the function create_model2\n",
    "\n",
    "In the variable optimizer pass the following parameters using the optimizer Adam\n",
    "\n",
    "     -beta_1 as beta_1\n",
    "     -beta_2 as beta_2\n",
    "While comipling the model pass the following parameters -\n",
    "\n",
    "     -optimizer as optimizer\n",
    "     -loss as categorical cross entropy \n",
    "     -metrics as accuracy.\n",
    "Return the compiled model"
   ]
  },
  {
   "cell_type": "code",
   "execution_count": 17,
   "metadata": {},
   "outputs": [],
   "source": [
    "def create_model2(beta_1=0.01, beta_2=0):\n",
    "    model = Sequential()\n",
    "    model.add(Dense(64, input_dim=4, activation='relu'))\n",
    "    model.add(Dense(32, activation='relu'))\n",
    "    model.add(Dense(16, activation='relu'))\n",
    "    model.add(Dense(3, activation='softmax'))\n",
    "    optimizer=Adam(beta_1=beta_1, beta_2=beta_2)\n",
    "    model.compile(loss='categorical_crossentropy', optimizer=optimizer, metrics=['accuracy'])\n",
    "    return model\n"
   ]
  },
  {
   "cell_type": "markdown",
   "metadata": {},
   "source": [
    "Use the KerasClassifier function to call the model function with following parameters -\n",
    "\n",
    "- build_fn as create_model2\n",
    "- batch_size as 10\n",
    "- verbose as 0\n",
    "- epochs as 10\n",
    "\n",
    "Save the above in the variable model2"
   ]
  },
  {
   "cell_type": "code",
   "execution_count": 18,
   "metadata": {},
   "outputs": [],
   "source": [
    "model2 = KerasClassifier(build_fn=create_model2,epochs=10, batch_size=10,shuffle=True,validation_split=0.2,verbose=0)"
   ]
  },
  {
   "cell_type": "markdown",
   "metadata": {},
   "source": [
    "In param_grid2 pass parameter beta_1 as beta_1 and beta_2 as beta_2 using dict\n",
    "\n",
    "In grid2 use the GridSearchCV function and pass the following parameters -\n",
    "- estimator as model2\n",
    "- param_grid as param_grid2\n",
    "- n_jobs as 1"
   ]
  },
  {
   "cell_type": "code",
   "execution_count": 19,
   "metadata": {},
   "outputs": [],
   "source": [
    "param_grid2 = dict(beta_1=beta_1,beta_2=beta_2)\n",
    "grid2 = GridSearchCV(estimator=model2, param_grid=param_grid2, n_jobs=1)"
   ]
  },
  {
   "cell_type": "markdown",
   "metadata": {},
   "source": [
    "Use random.seed function in numpy to set seed value.\n",
    "\n",
    "Now fit the model with X and Y using grid2 and save it in grid_result2\n",
    "\n",
    "**Note** - While running fit model this might take upto 2-5 minutes to run this cell"
   ]
  },
  {
   "cell_type": "code",
   "execution_count": 20,
   "metadata": {
    "scrolled": true
   },
   "outputs": [],
   "source": [
    "\n",
    "grid_result2 = grid2.fit(X, Y)"
   ]
  },
  {
   "cell_type": "markdown",
   "metadata": {},
   "source": [
    "### Run the below cell to summarize the results"
   ]
  },
  {
   "cell_type": "code",
   "execution_count": 21,
   "metadata": {},
   "outputs": [
    {
     "name": "stdout",
     "output_type": "stream",
     "text": [
      "Best: 0.913333 using {'beta_1': 0.01, 'beta_2': 0.4}\n",
      "0.833333 (0.108730) with: {'beta_1': 0.001, 'beta_2': 0.0}\n",
      "0.833333 (0.095685) with: {'beta_1': 0.001, 'beta_2': 0.4}\n",
      "0.753333 (0.049889) with: {'beta_1': 0.001, 'beta_2': 0.9}\n",
      "0.313333 (0.009428) with: {'beta_1': 0.01, 'beta_2': 0.0}\n",
      "0.913333 (0.065997) with: {'beta_1': 0.01, 'beta_2': 0.4}\n",
      "0.886667 (0.092856) with: {'beta_1': 0.01, 'beta_2': 0.9}\n",
      "0.340000 (0.016330) with: {'beta_1': 0.3, 'beta_2': 0.0}\n",
      "0.886667 (0.049889) with: {'beta_1': 0.3, 'beta_2': 0.4}\n",
      "0.786667 (0.191369) with: {'beta_1': 0.3, 'beta_2': 0.9}\n"
     ]
    }
   ],
   "source": [
    "# summarize results\n",
    "print(\"Best: %f using %s\" % (grid_result2.best_score_, grid_result2.best_params_))\n",
    "means2 = grid_result2.cv_results_['mean_test_score']\n",
    "stds2 = grid_result2.cv_results_['std_test_score']\n",
    "params2 = grid_result2.cv_results_['params']\n",
    "for mean, stdev, param in zip(means2, stds2, params2):\n",
    "    print(\"%f (%f) with: %r\" % (mean, stdev, param))"
   ]
  },
  {
   "cell_type": "markdown",
   "metadata": {},
   "source": [
    "### Run the below cell to plot the results"
   ]
  },
  {
   "cell_type": "code",
   "execution_count": 22,
   "metadata": {},
   "outputs": [
    {
     "data": {
      "image/png": "[encoded data removed]",
      "text/plain": [
       "<Figure size 720x576 with 1 Axes>"
      ]
     },
     "metadata": {
      "needs_background": "light"
     },
     "output_type": "display_data"
    }
   ],
   "source": [
    "params2=pd.DataFrame(params2)\n",
    "pyplot.figure(figsize=(10,8))\n",
    "#pyplot.xticks(grid_result1.cv_results_['mean_test_score'])\n",
    "pyplot.title(\"Performance metrics of SGD optimiser with different beta values\")\n",
    "plot2=sns.barplot(params2[\"beta_1\"],grid_result2.cv_results_['mean_test_score'],hue=params2[\"beta_2\"])\n",
    "plot2.set(ylabel='Score')\n",
    "pyplot.show() "
   ]
  },
  {
   "cell_type": "markdown",
   "metadata": {},
   "source": [
    "**Note**\n",
    "\n",
    "In the same way you can use other optimization algorithms and perform operations using it.\n",
    "\n",
    "You can tune parameters of other optimizers in the same way as we did in this excercise."
   ]
  },
  {
   "cell_type": "markdown",
   "metadata": {},
   "source": [
    "### Run the below cells to save your scores and model for testing"
   ]
  },
  {
   "cell_type": "code",
   "execution_count": 23,
   "metadata": {},
   "outputs": [],
   "source": [
    "with open(\"score.txt\",\"w\") as f:\n",
    "    f.write(str(round(grid_result.best_score_,2)))\n",
    "with open(\"params.txt\",\"w\") as f:\n",
    "    f.write(str(grid_result.best_params_))\n",
    "\n",
    "with open(\"score1.txt\",\"w\") as f:\n",
    "    f.write(str(round(grid_result1.best_score_,2)))\n",
    "with open(\"params1.txt\",\"w\") as f:\n",
    "    f.write(str(grid_result1.best_params_))\n",
    "    \n",
    "with open(\"score2.txt\",\"w\") as f:\n",
    "    f.write(str(round(grid_result2.best_score_,2)))\n",
    "with open(\"params2.txt\",\"w\") as f:\n",
    "    f.write(str(grid_result2.best_params_))\n",
    "        "
   ]
  },
  {
   "cell_type": "code",
   "execution_count": 24,
   "metadata": {},
   "outputs": [],
   "source": [
    "def save_model(model):\n",
    "    # saving model\n",
    "    json_model = model.to_json()\n",
    "    open('model.json', 'w').write(json_model)\n",
    "    # saving weights\n",
    "    model.save_weights('model.h5', overwrite=True)\n",
    "classifier=create_model()\n",
    "save_model(classifier)"
   ]
  },
  {
   "cell_type": "code",
   "execution_count": null,
   "metadata": {},
   "outputs": [],
   "source": []
  }
 ],
 "metadata": {
  "kernelspec": {
   "display_name": "Python 3",
   "language": "python",
   "name": "python3"
  },
  "language_info": {
   "codemirror_mode": {
    "name": "ipython",
    "version": 3
   },
   "file_extension": ".py",
   "mimetype": "text/x-python",
   "name": "python",
   "nbconvert_exporter": "python",
   "pygments_lexer": "ipython3",
   "version": "3.5.2"
  }
 },
 "nbformat": 4,
 "nbformat_minor": 2
}
