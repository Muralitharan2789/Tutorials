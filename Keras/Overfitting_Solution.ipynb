{
  "nbformat": 4,
  "nbformat_minor": 0,
  "metadata": {
    "kernelspec": {
      "display_name": "Python 3",
      "language": "python",
      "name": "python3"
    },
    "language_info": {
      "codemirror_mode": {
        "name": "ipython",
        "version": 3
      },
      "file_extension": ".py",
      "mimetype": "text/x-python",
      "name": "python",
      "nbconvert_exporter": "python",
      "pygments_lexer": "ipython3",
      "version": "3.5.2"
    },
    "colab": {
      "name": "Overfitting_Solution.ipynb",
      "provenance": [],
      "collapsed_sections": [],
      "toc_visible": true
    }
  },
  "cells": [
    {
      "cell_type": "markdown",
      "metadata": {
        "id": "vlRJIM1qx4JS",
        "colab_type": "text"
      },
      "source": [
        "## **Overfitting using Tensorflow Keras**\n",
        "In this scenario of hackerrank, you will be exploring about the **Overfitting** and how to overcome it.  \n",
        "\n",
        "We will look at five scenarios here\n",
        "1. With Overfitting, \n",
        "2. Overcoming Overfitting with Weight Constraints\n",
        "3. Overcoming Overfittting with Early Stopping\n",
        "4. Overcoming Overfitting with Dropouts\n",
        "5. Overcoming Overfitting with Weight Decays\n",
        "\n",
        "**Note** - Finally restart and run all the cells after the completion of the challenge\n"
      ]
    },
    {
      "cell_type": "markdown",
      "metadata": {
        "id": "e8uEb7nqx4JU",
        "colab_type": "text"
      },
      "source": [
        "### Run the below cell to import the neccessary packages"
      ]
    },
    {
      "cell_type": "code",
      "metadata": {
        "id": "T2ViYfYrx4JW",
        "colab_type": "code",
        "colab": {
          "base_uri": "https://localhost:8080/",
          "height": 51
        },
        "outputId": "9f328540-d9ab-4866-f8a4-23a76fb68af4"
      },
      "source": [
        "from keras import backend as K\n",
        "import numpy as np\n",
        "import random as rn\n",
        "import tensorflow as tf\n",
        "import os\n",
        "from sklearn.datasets import make_moons\n",
        "from keras.models import Sequential\n",
        "from keras.layers import Dense\n",
        "from keras.layers import Dropout\n",
        "from keras.constraints import unit_norm\n",
        "from matplotlib import pyplot\n",
        "from keras.utils import to_categorical\n",
        "from keras.regularizers import l2\n",
        "import pandas as pd\n",
        "import matplotlib.pyplot as plt\n",
        "import seaborn as sns\n",
        "import json\n",
        "from keras.callbacks import EarlyStopping"
      ],
      "execution_count": 1,
      "outputs": [
        {
          "output_type": "stream",
          "text": [
            "/usr/local/lib/python3.6/dist-packages/statsmodels/tools/_testing.py:19: FutureWarning: pandas.util.testing is deprecated. Use the functions in the public API at pandas.testing instead.\n",
            "  import pandas.util.testing as tm\n"
          ],
          "name": "stderr"
        }
      ]
    },
    {
      "cell_type": "markdown",
      "metadata": {
        "id": "87AWfI2fx4Je",
        "colab_type": "text"
      },
      "source": [
        "### Run the below cells so as to get the reproducibility of the results"
      ]
    },
    {
      "cell_type": "code",
      "metadata": {
        "id": "wQ1Ez-Cwx4Jf",
        "colab_type": "code",
        "colab": {}
      },
      "source": [
        "os.environ[\"CUDA_DEVICE_ORDER\"] = \"PCI_BUS_ID\"\n",
        "os.environ[\"CUDA_VISIBLE_DEVICES\"] = \"\""
      ],
      "execution_count": 2,
      "outputs": []
    },
    {
      "cell_type": "code",
      "metadata": {
        "id": "h7rOOJV8x8y-",
        "colab_type": "code",
        "colab": {}
      },
      "source": [
        "sd = 1 \n",
        "np.random.seed(sd)\n",
        "rn.seed(sd)\n",
        "os.environ['PYTHONHASHSEED']=str(sd)"
      ],
      "execution_count": 3,
      "outputs": []
    },
    {
      "cell_type": "markdown",
      "metadata": {
        "id": "lHXnNH6sx4Jt",
        "colab_type": "text"
      },
      "source": [
        "### Load the dataset \n",
        " - Load the make moons dataset using make_moons function with following parameters -\n",
        "                  \n",
        "                -n_samples as 100\n",
        "                -noise as 0.2\n",
        "                -random_state as sd"
      ]
    },
    {
      "cell_type": "code",
      "metadata": {
        "id": "YvD2KNCzx4Ju",
        "colab_type": "code",
        "colab": {}
      },
      "source": [
        "X, y = make_moons(n_samples=100,noise=0.2,random_state=sd)\n"
      ],
      "execution_count": 4,
      "outputs": []
    },
    {
      "cell_type": "markdown",
      "metadata": {
        "id": "HlppWZ1Ox4J1",
        "colab_type": "text"
      },
      "source": [
        "### Split the Dataset\n",
        "- Split the data by keeping first 30 data from the dataset as train dataset and remaining as tests dataset \n",
        "\n",
        "              -Assign n_train as 30 and split dataset as mentioned above and save it in variables trainX,testX,trainy and                     testy respectively"
      ]
    },
    {
      "cell_type": "code",
      "metadata": {
        "id": "V3axlK4Dx4J2",
        "colab_type": "code",
        "colab": {}
      },
      "source": [
        "n_train = 30\n",
        "trainX, testX =X[:n_train,:],X[n_train:,:]\n",
        "trainy, testy = y[:n_train],y[n_train:]"
      ],
      "execution_count": 5,
      "outputs": []
    },
    {
      "cell_type": "markdown",
      "metadata": {
        "id": "8abg9j3gx4J6",
        "colab_type": "text"
      },
      "source": [
        "---------------------------------------------------------------------------\n",
        "## **1.With OverFitting**\n",
        "-------------------------------------------------------------------\n",
        "\n",
        "### Create Model\n",
        "\n",
        "Construct a fully-connected network structure defined using dense class in the function model\n",
        "- Create a sequential model\n",
        "- The model expects rows of data with 2 variables (the input_dim=2 argument)\n",
        "- The hidden layer has 500 nodes and uses the relu activation function.\n",
        "- The output layer has 1 node and uses the sigmoid activation function.\n",
        "- While comipling the model pass the following parameters -\n",
        "                    \n",
        "           -optimizer as adam\n",
        "           -loss as binary cross entropy \n",
        "           -metrics as accuracy"
      ]
    },
    {
      "cell_type": "code",
      "metadata": {
        "id": "BD4wQmS1x4J7",
        "colab_type": "code",
        "colab": {}
      },
      "source": [
        "def model():\n",
        "    model = Sequential()\n",
        "    model.add(Dense(500,input_dim=2,activation='relu'))\n",
        "    model.add(Dense(1,activation='sigmoid'))  \n",
        "    model.compile(optimizer='adam',loss='binary_crossentropy', metrics=['accuracy'])\n",
        "    return model"
      ],
      "execution_count": 6,
      "outputs": []
    },
    {
      "cell_type": "markdown",
      "metadata": {
        "id": "A9Ydn6LIx4KJ",
        "colab_type": "text"
      },
      "source": [
        "### Fit the model\n",
        "- Call the function model and save it in variable model\n",
        "- Fit the model with trainX and trainy ,validation_data as testX and testy, epochs as 4000,verboseas 0 and save it in history1"
      ]
    },
    {
      "cell_type": "code",
      "metadata": {
        "id": "4Sh6IZNPx4KM",
        "colab_type": "code",
        "colab": {}
      },
      "source": [
        "model=model()\n",
        "history1 = model.fit(trainX,trainy,validation_data=(testX,testy),epochs=4000,verbose=0)"
      ],
      "execution_count": 7,
      "outputs": []
    },
    {
      "cell_type": "markdown",
      "metadata": {
        "id": "GcsDBZ-Kx4KX",
        "colab_type": "text"
      },
      "source": [
        "### Evaluate the model\n",
        "- Evaluate the model with training data using trainX and trainy and give verbose as 0 and save it in train_acc\n",
        "\n",
        "- In the similar way evaluate the model with test data using testX and testy using verbose as 0 and save it in test_acc"
      ]
    },
    {
      "cell_type": "code",
      "metadata": {
        "id": "wtvMEzA6x4KX",
        "colab_type": "code",
        "colab": {
          "base_uri": "https://localhost:8080/",
          "height": 34
        },
        "outputId": "f17cc747-59ea-4e9e-cd95-4035a694932e"
      },
      "source": [
        "_, train_acc = model.evaluate(trainX,trainy,verbose=0)\n",
        "_, test_acc = model.evaluate(testX,testy,verbose=0)\n",
        "print('Train: %.2f, Test: %.2f' % (train_acc, test_acc))"
      ],
      "execution_count": 8,
      "outputs": [
        {
          "output_type": "stream",
          "text": [
            "Train: 1.00, Test: 0.91\n"
          ],
          "name": "stdout"
        }
      ]
    },
    {
      "cell_type": "markdown",
      "metadata": {
        "id": "MZW6y8tcx4Kq",
        "colab_type": "text"
      },
      "source": [
        "### Run the below cell to look at the performance of the model"
      ]
    },
    {
      "cell_type": "code",
      "metadata": {
        "id": "4W0fVDTwx4Kr",
        "colab_type": "code",
        "colab": {
          "base_uri": "https://localhost:8080/",
          "height": 265
        },
        "outputId": "3664d0c7-724b-4329-d55d-bd7f5b2d1888"
      },
      "source": [
        "pyplot.plot(history1.history['accuracy'], label='train')\n",
        "pyplot.plot(history1.history['val_accuracy'], label='test')\n",
        "pyplot.legend()\n",
        "pyplot.show()"
      ],
      "execution_count": 9,
      "outputs": [
        {
          "output_type": "display_data",
          "data": {
            "image/png": "[encoded data removed]",
            "text/plain": [
              "<Figure size 432x288 with 1 Axes>"
            ]
          },
          "metadata": {
            "tags": [],
            "needs_background": "light"
          }
        }
      ]
    },
    {
      "cell_type": "markdown",
      "metadata": {
        "id": "FmbXT_K7x4Ku",
        "colab_type": "text"
      },
      "source": [
        "---------------------------------------------------------------------------\n",
        "## **2.Overcoming OverFitting with Weight Constraints**\n",
        "-------------------------------------------------------------------\n",
        "\n",
        "### Create Model\n",
        "\n",
        "Construct a fully-connected network structure defined using dense class in the function model\n",
        "- Create a sequential model\n",
        "- The model expects rows of data with 2 variables (the input_dim=2 argument)\n",
        "- The hidden layer has 500 nodes and uses the relu activation function and it has kernel_constraint as unit_norm.\n",
        "- The output layer has 1 node and uses the sigmoid activation function.\n",
        "- While comipling the model pass the following parameters -\n",
        "                    \n",
        "           -optimizer as adam\n",
        "           -loss as binary cross entropy \n",
        "           -metrics as accuracy"
      ]
    },
    {
      "cell_type": "code",
      "metadata": {
        "id": "ObD1UmXcx4Kv",
        "colab_type": "code",
        "colab": {}
      },
      "source": [
        "def model1():\n",
        "  model1=Sequential()\n",
        "  model1.add(Dense(500,input_dim=2,activation='relu',kernel_constraint=unit_norm()))\n",
        "  model1.add(Dense(1,activation='sigmoid'))\n",
        "  model1.compile(optimizer='adam',loss='binary_crossentropy', metrics=['accuracy'])\n",
        "  return model1"
      ],
      "execution_count": 10,
      "outputs": []
    },
    {
      "cell_type": "markdown",
      "metadata": {
        "id": "Qozd9j8Jx4K3",
        "colab_type": "text"
      },
      "source": [
        "### Fit the model\n",
        "- Call the function model1 and save it in variable model1\n",
        "- Fit the model1 with trainX and trainy ,validation_data as testX and testy, epochs as 4000,verbose as 0 and save it in history2"
      ]
    },
    {
      "cell_type": "code",
      "metadata": {
        "id": "-bhiVK9zx4K5",
        "colab_type": "code",
        "colab": {}
      },
      "source": [
        "model1=model1()\n",
        "history2 = model1.fit(trainX, trainy, validation_data=(testX, testy), epochs=4000, verbose=0)"
      ],
      "execution_count": 11,
      "outputs": []
    },
    {
      "cell_type": "markdown",
      "metadata": {
        "id": "Qdq0E9Ylx4K8",
        "colab_type": "text"
      },
      "source": [
        "### Evaluate the model\n",
        "- Evaluate the model1 with training data using trainX and trainy and give verbose as 0 and save it in train_acc1.\n",
        "\n",
        "- In the similar way evaluate the model1 with test data using testX and testy using verbose as 0 and save it in test_acc1."
      ]
    },
    {
      "cell_type": "code",
      "metadata": {
        "id": "sBdx3mO9x4K9",
        "colab_type": "code",
        "colab": {
          "base_uri": "https://localhost:8080/",
          "height": 34
        },
        "outputId": "8040d973-9e82-499b-8b46-ad6ca28bd900"
      },
      "source": [
        "_, train_acc1 = model1.evaluate(trainX, trainy, verbose=0)\n",
        "_, test_acc1 = model1.evaluate(testX, testy, verbose=0)\n",
        "print('Train: %.2f, Test: %.2f' % (train_acc1, test_acc1))"
      ],
      "execution_count": 12,
      "outputs": [
        {
          "output_type": "stream",
          "text": [
            "Train: 1.00, Test: 0.94\n"
          ],
          "name": "stdout"
        }
      ]
    },
    {
      "cell_type": "markdown",
      "metadata": {
        "id": "4buqUMvlx4LB",
        "colab_type": "text"
      },
      "source": [
        "### Run the below cell to look at the performance of the model"
      ]
    },
    {
      "cell_type": "code",
      "metadata": {
        "scrolled": true,
        "id": "fUxaUTEox4LB",
        "colab_type": "code",
        "colab": {
          "base_uri": "https://localhost:8080/",
          "height": 265
        },
        "outputId": "ea7b716e-f751-49c8-a510-6529fe708642"
      },
      "source": [
        "# plot history\n",
        "pyplot.plot(history2.history['accuracy'], label='train')\n",
        "pyplot.plot(history2.history['val_accuracy'], label='test')\n",
        "pyplot.legend()\n",
        "pyplot.show()"
      ],
      "execution_count": 13,
      "outputs": [
        {
          "output_type": "display_data",
          "data": {
            "image/png": "[encoded data removed]",
            "text/plain": [
              "<Figure size 432x288 with 1 Axes>"
            ]
          },
          "metadata": {
            "tags": [],
            "needs_background": "light"
          }
        }
      ]
    },
    {
      "cell_type": "markdown",
      "metadata": {
        "id": "NA6xd5wKx4LI",
        "colab_type": "text"
      },
      "source": [
        "---------------------------------------------------------------------------\n",
        "## **3.Overcoming OverFitting with Early Stopping**\n",
        "-------------------------------------------------------------------\n",
        "\n",
        "- Initiate Early Stopping using EarlyStopping function and pass the following parameters to it and save it in variable es -\n",
        "        \n",
        "        -monitor as val_loss\n",
        "        -mode as min\n",
        "        -verbose as 1\n",
        "        patience as 500 "
      ]
    },
    {
      "cell_type": "code",
      "metadata": {
        "id": "UouzTNqdx4LK",
        "colab_type": "code",
        "colab": {}
      },
      "source": [
        "es = EarlyStopping(monitor='val_loss',mode='min',verbose=1,patience=500)"
      ],
      "execution_count": 14,
      "outputs": []
    },
    {
      "cell_type": "markdown",
      "metadata": {
        "id": "woS3Y2UOx4LN",
        "colab_type": "text"
      },
      "source": [
        "### Fit the model\n",
        "- Fit the model1 with trainX and trainy ,validation_data as testX and testy, epochs as 4000,verbose as 0 ,callbacks as [es] and save it in history3"
      ]
    },
    {
      "cell_type": "code",
      "metadata": {
        "scrolled": true,
        "id": "n0O6jQTvx4LO",
        "colab_type": "code",
        "colab": {
          "base_uri": "https://localhost:8080/",
          "height": 34
        },
        "outputId": "d60b392d-82d8-4dad-8421-610ffa0e98ef"
      },
      "source": [
        "history3 = model1.fit(trainX,trainy,validation_data=(testX,testy),epochs=4000,verbose=0,callbacks=[es])"
      ],
      "execution_count": 15,
      "outputs": [
        {
          "output_type": "stream",
          "text": [
            "Epoch 00501: early stopping\n"
          ],
          "name": "stdout"
        }
      ]
    },
    {
      "cell_type": "markdown",
      "metadata": {
        "id": "az54anwsx4LY",
        "colab_type": "text"
      },
      "source": [
        "### Evaluate the model\n",
        "- Evaluate the model1 with training data using trainX and trainy and give verbose as 0 and save it in train_acc2.\n",
        "\n",
        "- In the similar way evaluate the model1 with test data using testX and testy using verbose as 0 and save it in test_acc2."
      ]
    },
    {
      "cell_type": "code",
      "metadata": {
        "id": "nPkAgS2gx4LY",
        "colab_type": "code",
        "colab": {
          "base_uri": "https://localhost:8080/",
          "height": 34
        },
        "outputId": "d6f69917-492c-4ece-d4bb-ac03b1e52fef"
      },
      "source": [
        "_, train_acc2 = model1.evaluate(trainX, trainy, verbose=0)\n",
        "_, test_acc2 = model1.evaluate(testX, testy, verbose=0)\n",
        "print('Train: %.2f, Test: %.2f' % (train_acc2, test_acc2))"
      ],
      "execution_count": 16,
      "outputs": [
        {
          "output_type": "stream",
          "text": [
            "Train: 1.00, Test: 0.94\n"
          ],
          "name": "stdout"
        }
      ]
    },
    {
      "cell_type": "markdown",
      "metadata": {
        "id": "i22H400hx4Lc",
        "colab_type": "text"
      },
      "source": [
        "### Run the below cell to look at the performance of the model"
      ]
    },
    {
      "cell_type": "code",
      "metadata": {
        "scrolled": true,
        "id": "Ju5gOTrcx4Ld",
        "colab_type": "code",
        "colab": {
          "base_uri": "https://localhost:8080/",
          "height": 265
        },
        "outputId": "ff1432bf-f6ae-4388-f35d-06f90221be07"
      },
      "source": [
        "pyplot.plot(history3.history['accuracy'], label='train')\n",
        "pyplot.plot(history3.history['val_accuracy'], label='test')\n",
        "pyplot.legend()\n",
        "pyplot.show()"
      ],
      "execution_count": 17,
      "outputs": [
        {
          "output_type": "display_data",
          "data": {
            "image/png": "[encoded data removed]",
            "text/plain": [
              "<Figure size 432x288 with 1 Axes>"
            ]
          },
          "metadata": {
            "tags": [],
            "needs_background": "light"
          }
        }
      ]
    },
    {
      "cell_type": "markdown",
      "metadata": {
        "id": "FDE_iZq6x4Lg",
        "colab_type": "text"
      },
      "source": [
        "---------------------------------------------------------------------------\n",
        "## **4.Overcoming OverFitting with Dropouts**\n",
        "-------------------------------------------------------------------\n",
        "\n",
        "### Create Model\n",
        "\n",
        "Construct a fully-connected network structure defined using dense class in the function model\n",
        "- Create a sequential model\n",
        "- The model expects rows of data with 2 variables (the input_dim=2 argument)\n",
        "- The hidden layer has 500 nodes and uses the relu activation function.\n",
        "- Add a dropout layer with dropout rate as 0.4\n",
        "- The output layer has 1 node and uses the sigmoid activation function.\n",
        "- While comipling the model pass the following parameters -\n",
        "                    \n",
        "           -optimizer as adam\n",
        "           -loss as binary cross entropy \n",
        "           -metrics as accuracy"
      ]
    },
    {
      "cell_type": "code",
      "metadata": {
        "id": "t4kkuP0Fx4Lh",
        "colab_type": "code",
        "colab": {}
      },
      "source": [
        "def model2():\n",
        "    model2=Sequential()\n",
        "    model2.add(Dense(500,input_dim=2,activation='relu'))\n",
        "    model2.add(Dropout(0.4))\n",
        "    model2.add(Dense(1,activation='sigmoid'))\n",
        "    model2.compile( optimizer='adam',loss='binary_crossentropy', metrics=['accuracy'])\n",
        "    return model2"
      ],
      "execution_count": 18,
      "outputs": []
    },
    {
      "cell_type": "markdown",
      "metadata": {
        "id": "WLYJiUSsx4Lk",
        "colab_type": "text"
      },
      "source": [
        "### Fit the model\n",
        "- Call the function model2 and save it in variable model2\n",
        "- Fit the model2 with trainX and trainy ,validation_data as testX and testy, epochs as 4000,verbose as 0 ,and save it in history4"
      ]
    },
    {
      "cell_type": "code",
      "metadata": {
        "id": "ZmmiKDOix4Lo",
        "colab_type": "code",
        "colab": {}
      },
      "source": [
        "model2=model2()\n",
        "history4 = model2.fit(trainX,trainy,validation_data=(testX,testy),epochs=4000,verbose=0)"
      ],
      "execution_count": 19,
      "outputs": []
    },
    {
      "cell_type": "markdown",
      "metadata": {
        "id": "fU7RM8Acx4Ls",
        "colab_type": "text"
      },
      "source": [
        "### Evaluate the model\n",
        "- Evaluate the model2 with training data using trainX and trainy and give verbose as 0 and save it in train_acc3.\n",
        "\n",
        "- In the similar way evaluate the model2 with test data using testX and testy using verbose as 0 and save it in test_acc3."
      ]
    },
    {
      "cell_type": "code",
      "metadata": {
        "id": "tkWtuUrZx4Ls",
        "colab_type": "code",
        "colab": {
          "base_uri": "https://localhost:8080/",
          "height": 34
        },
        "outputId": "c85dd44d-59bc-4a6d-8e12-e07bdba322d3"
      },
      "source": [
        "_, train_acc3 = model2.evaluate(trainX,trainy,verbose=0)\n",
        "_, test_acc3 = model2.evaluate(testX,testy,verbose=0)\n",
        "print('Train: %.2f, Test: %.2f' % (train_acc3, test_acc3))"
      ],
      "execution_count": 20,
      "outputs": [
        {
          "output_type": "stream",
          "text": [
            "Train: 1.00, Test: 0.94\n"
          ],
          "name": "stdout"
        }
      ]
    },
    {
      "cell_type": "markdown",
      "metadata": {
        "id": "XUb7qes2x4Lw",
        "colab_type": "text"
      },
      "source": [
        "### Run the below cell to look at the performance of the model"
      ]
    },
    {
      "cell_type": "code",
      "metadata": {
        "id": "DDtvnHBkx4Lw",
        "colab_type": "code",
        "colab": {
          "base_uri": "https://localhost:8080/",
          "height": 265
        },
        "outputId": "68c0b395-6e40-4180-b1e3-a5cc38ce7949"
      },
      "source": [
        "pyplot.plot(history4.history['accuracy'], label='train')\n",
        "pyplot.plot(history4.history['val_accuracy'], label='test')\n",
        "pyplot.legend()\n",
        "pyplot.show()"
      ],
      "execution_count": 21,
      "outputs": [
        {
          "output_type": "display_data",
          "data": {
            "image/png": "[encoded data removed]",
            "text/plain": [
              "<Figure size 432x288 with 1 Axes>"
            ]
          },
          "metadata": {
            "tags": [],
            "needs_background": "light"
          }
        }
      ]
    },
    {
      "cell_type": "markdown",
      "metadata": {
        "id": "PQkUl8ZEx4L4",
        "colab_type": "text"
      },
      "source": [
        "---------------------------------------------------------------------------\n",
        "## **5.Overcoming OverFitting with Weight Decays**\n",
        "-------------------------------------------------------------------\n",
        "\n",
        "### Create Model\n",
        "\n",
        "Construct a fully-connected network structure defined using dense class in the function model\n",
        "- Create a sequential model\n",
        "- The model expects rows of data with 2 variables (the input_dim=2 argument)\n",
        "- The hidden layer has 500 nodes and uses the relu activation function and it has kernal regulaizer as l2 with the rate as 0.01.\n",
        "- The output layer has 1 node and uses the sigmoid activation function.\n",
        "- While comipling the model pass the following parameters -\n",
        "                    \n",
        "           -optimizer as adam\n",
        "           -loss as binary cross entropy \n",
        "           -metrics as accuracy"
      ]
    },
    {
      "cell_type": "code",
      "metadata": {
        "id": "cV5xGOKWx4L5",
        "colab_type": "code",
        "colab": {}
      },
      "source": [
        "def model3():\n",
        "    model3 = Sequential()\n",
        "    model3.add(Dense(500,input_dim=2,activation='relu',kernel_regularizer=l2(0.01)))\n",
        "    model3.add(Dense(1,activation='sigmoid'))\n",
        "    model3.compile(optimizer='adam',loss='binary_crossentropy',metrics=['accuracy'])   \n",
        "    return model3"
      ],
      "execution_count": 22,
      "outputs": []
    },
    {
      "cell_type": "markdown",
      "metadata": {
        "id": "hULu5fWBx4MB",
        "colab_type": "text"
      },
      "source": [
        "### Fit the model\n",
        "- Call the function model3 and save it in variable model3\n",
        "- Fit the model3 with trainX and trainy ,validation_data as testX and testy, epochs as 4000,verbose as 0 ,and save it in history5"
      ]
    },
    {
      "cell_type": "code",
      "metadata": {
        "id": "1y1NhqRhx4MC",
        "colab_type": "code",
        "colab": {}
      },
      "source": [
        "model3=model3()\n",
        "history5 = model3.fit(trainX,trainy,validation_data=(testX,testy),epochs=4000,verbose=0)"
      ],
      "execution_count": 23,
      "outputs": []
    },
    {
      "cell_type": "markdown",
      "metadata": {
        "id": "7HxxVko-x4MG",
        "colab_type": "text"
      },
      "source": [
        "### Evaluate the model\n",
        "- Evaluate the model3 with training data using trainX and trainy and give verbose as 0 and save it in train_acc4.\n",
        "\n",
        "- In the similar way evaluate the model3 with test data using testX and testy using verbose as 0 and save it in test_acc4."
      ]
    },
    {
      "cell_type": "code",
      "metadata": {
        "id": "8PES-r55x4MJ",
        "colab_type": "code",
        "colab": {
          "base_uri": "https://localhost:8080/",
          "height": 34
        },
        "outputId": "6ca391f5-3cf1-482a-ae97-4ae5a25496e1"
      },
      "source": [
        "_, train_acc4 = model3.evaluate(trainX,trainy,verbose=0)\n",
        "_, test_acc4 = model3.evaluate(testX,testy,verbose=0)\n",
        "print('Train: %.2f, Test: %.2f' % (train_acc4, test_acc4))"
      ],
      "execution_count": 24,
      "outputs": [
        {
          "output_type": "stream",
          "text": [
            "Train: 1.00, Test: 0.93\n"
          ],
          "name": "stdout"
        }
      ]
    },
    {
      "cell_type": "markdown",
      "metadata": {
        "id": "nm5FU71yx4MN",
        "colab_type": "text"
      },
      "source": [
        "### Run the below cell to look at the performance of the model"
      ]
    },
    {
      "cell_type": "code",
      "metadata": {
        "scrolled": true,
        "id": "HO_RGtEmx4MN",
        "colab_type": "code",
        "colab": {
          "base_uri": "https://localhost:8080/",
          "height": 265
        },
        "outputId": "fd2bec54-0ba2-4245-efda-4bfc50947114"
      },
      "source": [
        "pyplot.plot(history5.history['accuracy'], label='train')\n",
        "pyplot.plot(history5.history['val_accuracy'], label='test')\n",
        "pyplot.legend()\n",
        "pyplot.show()"
      ],
      "execution_count": 25,
      "outputs": [
        {
          "output_type": "display_data",
          "data": {
            "image/png": "[encoded data removed]",
            "text/plain": [
              "<Figure size 432x288 with 1 Axes>"
            ]
          },
          "metadata": {
            "tags": [],
            "needs_background": "light"
          }
        }
      ]
    },
    {
      "cell_type": "markdown",
      "metadata": {
        "id": "LzvQmiWAx4MQ",
        "colab_type": "text"
      },
      "source": [
        "### Run the below cell to plot the results"
      ]
    },
    {
      "cell_type": "code",
      "metadata": {
        "scrolled": false,
        "id": "BWjJgdbhx4MR",
        "colab_type": "code",
        "colab": {
          "base_uri": "https://localhost:8080/",
          "height": 1000
        },
        "outputId": "8744a944-5b3e-4639-96e0-afd4b9dfe406"
      },
      "source": [
        "train_list=[train_acc,train_acc1,train_acc2,train_acc3,train_acc4]\n",
        "test_list=[test_acc,test_acc1,test_acc2,test_acc3,test_acc4]\n",
        "\n",
        "df=pd.DataFrame(train_list)\n",
        "\n",
        "df[\"test_acc\"]=test_list\n",
        "\n",
        "df=df.rename(columns={0:\"train_acc\"})\n",
        "\n",
        "df[\"label\"]=[\"Model1\",\"Model2\",\"Model3\",\"Model4\",\"Model5\"]\n",
        "plt.figure(1)\n",
        "pyplot.figure(figsize=(10,8))\n",
        "#pyplot.xticks(grid_result1.cv_results_['mean_test_score'])\n",
        "pyplot.title(\"Train Accuracy of the model\")\n",
        "plot1=sns.barplot(df[\"label\"],df[\"train_acc\"],order=df[\"label\"])\n",
        "plot1.set(ylabel='Score')\n",
        "plt.figure(2)\n",
        "pyplot.figure(figsize=(10,8))\n",
        "#pyplot.xticks(grid_result1.cv_results_['mean_test_score'])\n",
        "pyplot.title(\"Test Accuracy of the model\")\n",
        "plot2=sns.barplot(df[\"label\"],df[\"test_acc\"],order=df[\"label\"])\n",
        "plot2.set(ylabel='Score')\n",
        "pyplot.show() "
      ],
      "execution_count": 26,
      "outputs": [
        {
          "output_type": "display_data",
          "data": {
            "text/plain": [
              "<Figure size 432x288 with 0 Axes>"
            ]
          },
          "metadata": {
            "tags": []
          }
        },
        {
          "output_type": "display_data",
          "data": {
            "image/png": "[encoded data removed]",
            "text/plain": [
              "<Figure size 720x576 with 1 Axes>"
            ]
          },
          "metadata": {
            "tags": [],
            "needs_background": "light"
          }
        },
        {
          "output_type": "display_data",
          "data": {
            "image/png": "[encoded data removed]",
            "text/plain": [
              "<Figure size 720x576 with 1 Axes>"
            ]
          },
          "metadata": {
            "tags": [],
            "needs_background": "light"
          }
        }
      ]
    },
    {
      "cell_type": "markdown",
      "metadata": {
        "id": "u5KrqwvHx4MX",
        "colab_type": "text"
      },
      "source": [
        "**Note**\n",
        "\n",
        "In the same way you can try using other weight constraints like max_norm, min_max_norm .\n",
        "\n",
        "In the same way you can try exploring other weight decays (kernel regulaizers) like l1, l1 and l2 together."
      ]
    },
    {
      "cell_type": "markdown",
      "metadata": {
        "id": "HhqDe4U2x4MZ",
        "colab_type": "text"
      },
      "source": [
        "### Run the below cell to save the models"
      ]
    },
    {
      "cell_type": "code",
      "metadata": {
        "id": "fFWR-CJWx4Ma",
        "colab_type": "code",
        "colab": {}
      },
      "source": [
        "# serialize model to JSON\n",
        "model_json = model.to_json()\n",
        "with open(\"model.json\", \"w\") as json_file:\n",
        "    json_file.write(model_json)\n",
        "# serialize weights to HDF5\n",
        "model.save_weights(\"model.h5\")\n",
        "\n",
        "# serialize model to JSON\n",
        "model_json1 = model1.to_json()\n",
        "with open(\"model1.json\", \"w\") as json_file1:\n",
        "    json_file1.write(model_json1)\n",
        "# serialize weights to HDF5\n",
        "model1.save_weights(\"model1.h5\")\n",
        "\n",
        "# serialize model to JSON\n",
        "model_json2 = model2.to_json()\n",
        "with open(\"model2.json\", \"w\") as json_file2:\n",
        "    json_file2.write(model_json2)\n",
        "# serialize weights to HDF5\n",
        "model2.save_weights(\"model2.h5\")\n",
        "# serialize model to JSON\n",
        "model_json3 = model3.to_json()\n",
        "with open(\"model3.json\", \"w\") as json_file3:\n",
        "    json_file3.write(model_json3)\n",
        "# serialize weights to HDF5\n",
        "model3.save_weights(\"model3.h5\")"
      ],
      "execution_count": 27,
      "outputs": []
    },
    {
      "cell_type": "markdown",
      "metadata": {
        "id": "SxNvTebHx4Me",
        "colab_type": "text"
      },
      "source": [
        "### Run the below cell to save the scores "
      ]
    },
    {
      "cell_type": "code",
      "metadata": {
        "id": "eNF04AmHx4Me",
        "colab_type": "code",
        "colab": {}
      },
      "source": [
        "with open(\"train_acc1.txt\",\"w\") as f:\n",
        "    f.write(str(round(train_acc,2)))\n",
        "with open(\"test_acc1.txt\",\"w\") as f:\n",
        "    f.write(str(round(test_acc,2)))\n",
        "\n",
        "with open(\"train_acc2.txt\",\"w\") as f:\n",
        "    f.write(str(round(train_acc1,2)))\n",
        "with open(\"test_acc2.txt\",\"w\") as f:\n",
        "    f.write(str(round(test_acc1,2)))\n",
        "    \n",
        "with open(\"train_acc3.txt\",\"w\") as f:\n",
        "    f.write(str(round(train_acc2,2)))\n",
        "with open(\"test_acc3.txt\",\"w\") as f:\n",
        "    f.write(str(round(test_acc2,2)))\n",
        "    \n",
        "with open(\"train_acc4.txt\",\"w\") as f:\n",
        "    f.write(str(round(train_acc3,2)))\n",
        "with open(\"test_acc4.txt\",\"w\") as f:\n",
        "    f.write(str(round(test_acc3,2)))\n",
        "\n",
        "with open(\"train_acc5.txt\",\"w\") as f:\n",
        "    f.write(str(round(train_acc4,2)))\n",
        "with open(\"test_acc5.txt\",\"w\") as f:\n",
        "    f.write(str(round(test_acc4,2)))\n",
        "\n"
      ],
      "execution_count": 28,
      "outputs": []
    },
    {
      "cell_type": "code",
      "metadata": {
        "id": "hV2MiEbsinC_",
        "colab_type": "code",
        "colab": {}
      },
      "source": [
        ""
      ],
      "execution_count": 28,
      "outputs": []
    }
  ]
}